{
  "nbformat": 4,
  "nbformat_minor": 0,
  "metadata": {
    "colab": {
      "provenance": [],
      "toc_visible": true,
      "authorship_tag": "ABX9TyMFlwdB1xCnnM037B/lZijb",
      "include_colab_link": true
    },
    "kernelspec": {
      "name": "python3",
      "display_name": "Python 3"
    },
    "language_info": {
      "name": "python"
    }
  },
  "cells": [
    {
      "cell_type": "markdown",
      "metadata": {
        "id": "view-in-github",
        "colab_type": "text"
      },
      "source": [
        "<a href=\"https://colab.research.google.com/github/mariahelenass/NLP/blob/main/an%C3%A1lise_sentimentos.ipynb\" target=\"_parent\"><img src=\"https://colab.research.google.com/assets/colab-badge.svg\" alt=\"Open In Colab\"/></a>"
      ]
    },
    {
      "cell_type": "code",
      "execution_count": 6,
      "metadata": {
        "id": "V9iYIwIoAjVy"
      },
      "outputs": [],
      "source": [
        "!pip install -q spacy==2.2.3"
      ]
    },
    {
      "cell_type": "markdown",
      "source": [
        "## Análise de Sentimentos"
      ],
      "metadata": {
        "id": "5NQRfjPWSqFO"
      }
    },
    {
      "cell_type": "code",
      "source": [
        "import spacy"
      ],
      "metadata": {
        "id": "rV7CZv1WBk_i"
      },
      "execution_count": 7,
      "outputs": []
    },
    {
      "cell_type": "code",
      "source": [
        "import pandas as pd\n",
        "import string\n",
        "import random\n",
        "import seaborn as sns\n",
        "import numpy as npa"
      ],
      "metadata": {
        "id": "Dta9ybGrBl20"
      },
      "execution_count": 8,
      "outputs": []
    },
    {
      "cell_type": "code",
      "source": [
        "dados = pd.read_csv('/content/base_treinamento.txt', encoding='utf-8')"
      ],
      "metadata": {
        "id": "hi5y4hxNBp7s"
      },
      "execution_count": 9,
      "outputs": []
    },
    {
      "cell_type": "code",
      "source": [
        "dados.shape"
      ],
      "metadata": {
        "colab": {
          "base_uri": "https://localhost:8080/"
        },
        "id": "8vPZ0OhNB3If",
        "outputId": "e56eef7f-26fa-4dad-89b2-76a6afa30d86"
      },
      "execution_count": 10,
      "outputs": [
        {
          "output_type": "execute_result",
          "data": {
            "text/plain": [
              "(196, 2)"
            ]
          },
          "metadata": {},
          "execution_count": 10
        }
      ]
    },
    {
      "cell_type": "code",
      "source": [
        "dados.head()"
      ],
      "metadata": {
        "colab": {
          "base_uri": "https://localhost:8080/",
          "height": 206
        },
        "id": "LT5EuOUdB4Q8",
        "outputId": "ff9e28b6-f093-4f7e-9710-9f571af43547"
      },
      "execution_count": 11,
      "outputs": [
        {
          "output_type": "execute_result",
          "data": {
            "text/plain": [
              "                             texto   emocao\n",
              "0        este trabalho é agradável  alegria\n",
              "1  gosto de ficar no seu aconchego  alegria\n",
              "2       fiz a adesão ao curso hoje  alegria\n",
              "3       eu sou admirada por muitos  alegria\n",
              "4                  adoro como você  alegria"
            ],
            "text/html": [
              "\n",
              "  <div id=\"df-0e5c0597-72ed-412f-b0f0-2ec6c6c326b8\">\n",
              "    <div class=\"colab-df-container\">\n",
              "      <div>\n",
              "<style scoped>\n",
              "    .dataframe tbody tr th:only-of-type {\n",
              "        vertical-align: middle;\n",
              "    }\n",
              "\n",
              "    .dataframe tbody tr th {\n",
              "        vertical-align: top;\n",
              "    }\n",
              "\n",
              "    .dataframe thead th {\n",
              "        text-align: right;\n",
              "    }\n",
              "</style>\n",
              "<table border=\"1\" class=\"dataframe\">\n",
              "  <thead>\n",
              "    <tr style=\"text-align: right;\">\n",
              "      <th></th>\n",
              "      <th>texto</th>\n",
              "      <th>emocao</th>\n",
              "    </tr>\n",
              "  </thead>\n",
              "  <tbody>\n",
              "    <tr>\n",
              "      <th>0</th>\n",
              "      <td>este trabalho é agradável</td>\n",
              "      <td>alegria</td>\n",
              "    </tr>\n",
              "    <tr>\n",
              "      <th>1</th>\n",
              "      <td>gosto de ficar no seu aconchego</td>\n",
              "      <td>alegria</td>\n",
              "    </tr>\n",
              "    <tr>\n",
              "      <th>2</th>\n",
              "      <td>fiz a adesão ao curso hoje</td>\n",
              "      <td>alegria</td>\n",
              "    </tr>\n",
              "    <tr>\n",
              "      <th>3</th>\n",
              "      <td>eu sou admirada por muitos</td>\n",
              "      <td>alegria</td>\n",
              "    </tr>\n",
              "    <tr>\n",
              "      <th>4</th>\n",
              "      <td>adoro como você</td>\n",
              "      <td>alegria</td>\n",
              "    </tr>\n",
              "  </tbody>\n",
              "</table>\n",
              "</div>\n",
              "      <button class=\"colab-df-convert\" onclick=\"convertToInteractive('df-0e5c0597-72ed-412f-b0f0-2ec6c6c326b8')\"\n",
              "              title=\"Convert this dataframe to an interactive table.\"\n",
              "              style=\"display:none;\">\n",
              "        \n",
              "  <svg xmlns=\"http://www.w3.org/2000/svg\" height=\"24px\"viewBox=\"0 0 24 24\"\n",
              "       width=\"24px\">\n",
              "    <path d=\"M0 0h24v24H0V0z\" fill=\"none\"/>\n",
              "    <path d=\"M18.56 5.44l.94 2.06.94-2.06 2.06-.94-2.06-.94-.94-2.06-.94 2.06-2.06.94zm-11 1L8.5 8.5l.94-2.06 2.06-.94-2.06-.94L8.5 2.5l-.94 2.06-2.06.94zm10 10l.94 2.06.94-2.06 2.06-.94-2.06-.94-.94-2.06-.94 2.06-2.06.94z\"/><path d=\"M17.41 7.96l-1.37-1.37c-.4-.4-.92-.59-1.43-.59-.52 0-1.04.2-1.43.59L10.3 9.45l-7.72 7.72c-.78.78-.78 2.05 0 2.83L4 21.41c.39.39.9.59 1.41.59.51 0 1.02-.2 1.41-.59l7.78-7.78 2.81-2.81c.8-.78.8-2.07 0-2.86zM5.41 20L4 18.59l7.72-7.72 1.47 1.35L5.41 20z\"/>\n",
              "  </svg>\n",
              "      </button>\n",
              "      \n",
              "  <style>\n",
              "    .colab-df-container {\n",
              "      display:flex;\n",
              "      flex-wrap:wrap;\n",
              "      gap: 12px;\n",
              "    }\n",
              "\n",
              "    .colab-df-convert {\n",
              "      background-color: #E8F0FE;\n",
              "      border: none;\n",
              "      border-radius: 50%;\n",
              "      cursor: pointer;\n",
              "      display: none;\n",
              "      fill: #1967D2;\n",
              "      height: 32px;\n",
              "      padding: 0 0 0 0;\n",
              "      width: 32px;\n",
              "    }\n",
              "\n",
              "    .colab-df-convert:hover {\n",
              "      background-color: #E2EBFA;\n",
              "      box-shadow: 0px 1px 2px rgba(60, 64, 67, 0.3), 0px 1px 3px 1px rgba(60, 64, 67, 0.15);\n",
              "      fill: #174EA6;\n",
              "    }\n",
              "\n",
              "    [theme=dark] .colab-df-convert {\n",
              "      background-color: #3B4455;\n",
              "      fill: #D2E3FC;\n",
              "    }\n",
              "\n",
              "    [theme=dark] .colab-df-convert:hover {\n",
              "      background-color: #434B5C;\n",
              "      box-shadow: 0px 1px 3px 1px rgba(0, 0, 0, 0.15);\n",
              "      filter: drop-shadow(0px 1px 2px rgba(0, 0, 0, 0.3));\n",
              "      fill: #FFFFFF;\n",
              "    }\n",
              "  </style>\n",
              "\n",
              "      <script>\n",
              "        const buttonEl =\n",
              "          document.querySelector('#df-0e5c0597-72ed-412f-b0f0-2ec6c6c326b8 button.colab-df-convert');\n",
              "        buttonEl.style.display =\n",
              "          google.colab.kernel.accessAllowed ? 'block' : 'none';\n",
              "\n",
              "        async function convertToInteractive(key) {\n",
              "          const element = document.querySelector('#df-0e5c0597-72ed-412f-b0f0-2ec6c6c326b8');\n",
              "          const dataTable =\n",
              "            await google.colab.kernel.invokeFunction('convertToInteractive',\n",
              "                                                     [key], {});\n",
              "          if (!dataTable) return;\n",
              "\n",
              "          const docLinkHtml = 'Like what you see? Visit the ' +\n",
              "            '<a target=\"_blank\" href=https://colab.research.google.com/notebooks/data_table.ipynb>data table notebook</a>'\n",
              "            + ' to learn more about interactive tables.';\n",
              "          element.innerHTML = '';\n",
              "          dataTable['output_type'] = 'display_data';\n",
              "          await google.colab.output.renderOutput(dataTable, element);\n",
              "          const docLink = document.createElement('div');\n",
              "          docLink.innerHTML = docLinkHtml;\n",
              "          element.appendChild(docLink);\n",
              "        }\n",
              "      </script>\n",
              "    </div>\n",
              "  </div>\n",
              "  "
            ]
          },
          "metadata": {},
          "execution_count": 11
        }
      ]
    },
    {
      "cell_type": "code",
      "source": [
        "dados.tail()"
      ],
      "metadata": {
        "colab": {
          "base_uri": "https://localhost:8080/",
          "height": 206
        },
        "id": "HO2sXQxKB7A4",
        "outputId": "77758c3c-c9ff-4049-ddc6-15d5634d9d28"
      },
      "execution_count": 12,
      "outputs": [
        {
          "output_type": "execute_result",
          "data": {
            "text/plain": [
              "                                                 texto emocao\n",
              "191  estou chocado e amedrontado com este assassina...   medo\n",
              "192  é preciso afugenta com ímpeto este medo do inf...   medo\n",
              "193  políticos usam suas forças para afugentar e am...   medo\n",
              "194       o objetivo disso e apenas me amedrontar mais   medo\n",
              "195                                    isso me apavora   medo"
            ],
            "text/html": [
              "\n",
              "  <div id=\"df-5fc170c2-68f4-4965-9def-72e9f6a02b87\">\n",
              "    <div class=\"colab-df-container\">\n",
              "      <div>\n",
              "<style scoped>\n",
              "    .dataframe tbody tr th:only-of-type {\n",
              "        vertical-align: middle;\n",
              "    }\n",
              "\n",
              "    .dataframe tbody tr th {\n",
              "        vertical-align: top;\n",
              "    }\n",
              "\n",
              "    .dataframe thead th {\n",
              "        text-align: right;\n",
              "    }\n",
              "</style>\n",
              "<table border=\"1\" class=\"dataframe\">\n",
              "  <thead>\n",
              "    <tr style=\"text-align: right;\">\n",
              "      <th></th>\n",
              "      <th>texto</th>\n",
              "      <th>emocao</th>\n",
              "    </tr>\n",
              "  </thead>\n",
              "  <tbody>\n",
              "    <tr>\n",
              "      <th>191</th>\n",
              "      <td>estou chocado e amedrontado com este assassina...</td>\n",
              "      <td>medo</td>\n",
              "    </tr>\n",
              "    <tr>\n",
              "      <th>192</th>\n",
              "      <td>é preciso afugenta com ímpeto este medo do inf...</td>\n",
              "      <td>medo</td>\n",
              "    </tr>\n",
              "    <tr>\n",
              "      <th>193</th>\n",
              "      <td>políticos usam suas forças para afugentar e am...</td>\n",
              "      <td>medo</td>\n",
              "    </tr>\n",
              "    <tr>\n",
              "      <th>194</th>\n",
              "      <td>o objetivo disso e apenas me amedrontar mais</td>\n",
              "      <td>medo</td>\n",
              "    </tr>\n",
              "    <tr>\n",
              "      <th>195</th>\n",
              "      <td>isso me apavora</td>\n",
              "      <td>medo</td>\n",
              "    </tr>\n",
              "  </tbody>\n",
              "</table>\n",
              "</div>\n",
              "      <button class=\"colab-df-convert\" onclick=\"convertToInteractive('df-5fc170c2-68f4-4965-9def-72e9f6a02b87')\"\n",
              "              title=\"Convert this dataframe to an interactive table.\"\n",
              "              style=\"display:none;\">\n",
              "        \n",
              "  <svg xmlns=\"http://www.w3.org/2000/svg\" height=\"24px\"viewBox=\"0 0 24 24\"\n",
              "       width=\"24px\">\n",
              "    <path d=\"M0 0h24v24H0V0z\" fill=\"none\"/>\n",
              "    <path d=\"M18.56 5.44l.94 2.06.94-2.06 2.06-.94-2.06-.94-.94-2.06-.94 2.06-2.06.94zm-11 1L8.5 8.5l.94-2.06 2.06-.94-2.06-.94L8.5 2.5l-.94 2.06-2.06.94zm10 10l.94 2.06.94-2.06 2.06-.94-2.06-.94-.94-2.06-.94 2.06-2.06.94z\"/><path d=\"M17.41 7.96l-1.37-1.37c-.4-.4-.92-.59-1.43-.59-.52 0-1.04.2-1.43.59L10.3 9.45l-7.72 7.72c-.78.78-.78 2.05 0 2.83L4 21.41c.39.39.9.59 1.41.59.51 0 1.02-.2 1.41-.59l7.78-7.78 2.81-2.81c.8-.78.8-2.07 0-2.86zM5.41 20L4 18.59l7.72-7.72 1.47 1.35L5.41 20z\"/>\n",
              "  </svg>\n",
              "      </button>\n",
              "      \n",
              "  <style>\n",
              "    .colab-df-container {\n",
              "      display:flex;\n",
              "      flex-wrap:wrap;\n",
              "      gap: 12px;\n",
              "    }\n",
              "\n",
              "    .colab-df-convert {\n",
              "      background-color: #E8F0FE;\n",
              "      border: none;\n",
              "      border-radius: 50%;\n",
              "      cursor: pointer;\n",
              "      display: none;\n",
              "      fill: #1967D2;\n",
              "      height: 32px;\n",
              "      padding: 0 0 0 0;\n",
              "      width: 32px;\n",
              "    }\n",
              "\n",
              "    .colab-df-convert:hover {\n",
              "      background-color: #E2EBFA;\n",
              "      box-shadow: 0px 1px 2px rgba(60, 64, 67, 0.3), 0px 1px 3px 1px rgba(60, 64, 67, 0.15);\n",
              "      fill: #174EA6;\n",
              "    }\n",
              "\n",
              "    [theme=dark] .colab-df-convert {\n",
              "      background-color: #3B4455;\n",
              "      fill: #D2E3FC;\n",
              "    }\n",
              "\n",
              "    [theme=dark] .colab-df-convert:hover {\n",
              "      background-color: #434B5C;\n",
              "      box-shadow: 0px 1px 3px 1px rgba(0, 0, 0, 0.15);\n",
              "      filter: drop-shadow(0px 1px 2px rgba(0, 0, 0, 0.3));\n",
              "      fill: #FFFFFF;\n",
              "    }\n",
              "  </style>\n",
              "\n",
              "      <script>\n",
              "        const buttonEl =\n",
              "          document.querySelector('#df-5fc170c2-68f4-4965-9def-72e9f6a02b87 button.colab-df-convert');\n",
              "        buttonEl.style.display =\n",
              "          google.colab.kernel.accessAllowed ? 'block' : 'none';\n",
              "\n",
              "        async function convertToInteractive(key) {\n",
              "          const element = document.querySelector('#df-5fc170c2-68f4-4965-9def-72e9f6a02b87');\n",
              "          const dataTable =\n",
              "            await google.colab.kernel.invokeFunction('convertToInteractive',\n",
              "                                                     [key], {});\n",
              "          if (!dataTable) return;\n",
              "\n",
              "          const docLinkHtml = 'Like what you see? Visit the ' +\n",
              "            '<a target=\"_blank\" href=https://colab.research.google.com/notebooks/data_table.ipynb>data table notebook</a>'\n",
              "            + ' to learn more about interactive tables.';\n",
              "          element.innerHTML = '';\n",
              "          dataTable['output_type'] = 'display_data';\n",
              "          await google.colab.output.renderOutput(dataTable, element);\n",
              "          const docLink = document.createElement('div');\n",
              "          docLink.innerHTML = docLinkHtml;\n",
              "          element.appendChild(docLink);\n",
              "        }\n",
              "      </script>\n",
              "    </div>\n",
              "  </div>\n",
              "  "
            ]
          },
          "metadata": {},
          "execution_count": 12
        }
      ]
    },
    {
      "cell_type": "code",
      "source": [
        "sns.countplot(dados['emocao'], label = 'Contagem');"
      ],
      "metadata": {
        "colab": {
          "base_uri": "https://localhost:8080/",
          "height": 335
        },
        "id": "OnD5XJpTB8qE",
        "outputId": "1e8b1d41-d05a-4ebf-e38a-5dd4c6424215"
      },
      "execution_count": 14,
      "outputs": [
        {
          "output_type": "stream",
          "name": "stderr",
          "text": [
            "/usr/local/lib/python3.8/dist-packages/seaborn/_decorators.py:36: FutureWarning: Pass the following variable as a keyword arg: x. From version 0.12, the only valid positional argument will be `data`, and passing other arguments without an explicit keyword will result in an error or misinterpretation.\n",
            "  warnings.warn(\n"
          ]
        },
        {
          "output_type": "display_data",
          "data": {
            "text/plain": [
              "<Figure size 432x288 with 1 Axes>"
            ],
            "image/png": "[encoded data removed]"
          },
          "metadata": {
            "needs_background": "light"
          }
        }
      ]
    },
    {
      "cell_type": "code",
      "source": [
        "pontuacoes = string.punctuation\n",
        "pontuacoes"
      ],
      "metadata": {
        "colab": {
          "base_uri": "https://localhost:8080/",
          "height": 35
        },
        "id": "YUV1l1XhB_N-",
        "outputId": "f98d7c42-71dd-4c49-b260-11f8f9a113c0"
      },
      "execution_count": 15,
      "outputs": [
        {
          "output_type": "execute_result",
          "data": {
            "text/plain": [
              "'!\"#$%&\\'()*+,-./:;<=>?@[\\\\]^_`{|}~'"
            ],
            "application/vnd.google.colaboratory.intrinsic+json": {
              "type": "string"
            }
          },
          "metadata": {},
          "execution_count": 15
        }
      ]
    },
    {
      "cell_type": "code",
      "source": [
        "from spacy.lang.pt.stop_words import STOP_WORDS\n",
        "\n",
        "stop_words = STOP_WORDS\n",
        "# print(stop_words)"
      ],
      "metadata": {
        "id": "gkTBw9YACHGM"
      },
      "execution_count": 16,
      "outputs": []
    },
    {
      "cell_type": "code",
      "source": [
        "nlp = spacy.blank('pt')"
      ],
      "metadata": {
        "id": "KXniC9wyCLZS"
      },
      "execution_count": 33,
      "outputs": []
    },
    {
      "cell_type": "code",
      "source": [
        "def preprocessamento(texto):\n",
        "    texto = texto.lower()\n",
        "    documento = nlp(texto)\n",
        "\n",
        "    lista = []\n",
        "\n",
        "    for token in documento:\n",
        "        # lista.append(token.text)\n",
        "        lista.append(token.lemma_)\n",
        "    \n",
        "    lista = [palavra for palavra in lista if palavra not in stop_words and palavra not in pontuacoes]\n",
        "    lista = ' '.join([str(elemento) for elemento in lista if not elemento.isdigit()])\n",
        "    return lista"
      ],
      "metadata": {
        "id": "tUHEfA_yCO0W"
      },
      "execution_count": 34,
      "outputs": []
    },
    {
      "cell_type": "code",
      "source": [
        "dados['texto'] = dados['texto'].apply(preprocessamento)"
      ],
      "metadata": {
        "id": "vlnKDc-sEJcd"
      },
      "execution_count": 35,
      "outputs": []
    },
    {
      "cell_type": "code",
      "source": [
        "dados.head()"
      ],
      "metadata": {
        "colab": {
          "base_uri": "https://localhost:8080/",
          "height": 206
        },
        "id": "z8abiSZ6EM1S",
        "outputId": "4318b1ae-673b-4548-f3a7-031c0711cac0"
      },
      "execution_count": 36,
      "outputs": [
        {
          "output_type": "execute_result",
          "data": {
            "text/plain": [
              "                         texto   emocao\n",
              "0           trabalho agradável  alegria\n",
              "1        gosto ficar aconchego  alegria\n",
              "2  fiz a adesão a o curso hoje  alegria\n",
              "3                     admirada  alegria\n",
              "4                        adoro  alegria"
            ],
            "text/html": [
              "\n",
              "  <div id=\"df-5db62357-9afc-4714-93ee-5af1768828aa\">\n",
              "    <div class=\"colab-df-container\">\n",
              "      <div>\n",
              "<style scoped>\n",
              "    .dataframe tbody tr th:only-of-type {\n",
              "        vertical-align: middle;\n",
              "    }\n",
              "\n",
              "    .dataframe tbody tr th {\n",
              "        vertical-align: top;\n",
              "    }\n",
              "\n",
              "    .dataframe thead th {\n",
              "        text-align: right;\n",
              "    }\n",
              "</style>\n",
              "<table border=\"1\" class=\"dataframe\">\n",
              "  <thead>\n",
              "    <tr style=\"text-align: right;\">\n",
              "      <th></th>\n",
              "      <th>texto</th>\n",
              "      <th>emocao</th>\n",
              "    </tr>\n",
              "  </thead>\n",
              "  <tbody>\n",
              "    <tr>\n",
              "      <th>0</th>\n",
              "      <td>trabalho agradável</td>\n",
              "      <td>alegria</td>\n",
              "    </tr>\n",
              "    <tr>\n",
              "      <th>1</th>\n",
              "      <td>gosto ficar aconchego</td>\n",
              "      <td>alegria</td>\n",
              "    </tr>\n",
              "    <tr>\n",
              "      <th>2</th>\n",
              "      <td>fiz a adesão a o curso hoje</td>\n",
              "      <td>alegria</td>\n",
              "    </tr>\n",
              "    <tr>\n",
              "      <th>3</th>\n",
              "      <td>admirada</td>\n",
              "      <td>alegria</td>\n",
              "    </tr>\n",
              "    <tr>\n",
              "      <th>4</th>\n",
              "      <td>adoro</td>\n",
              "      <td>alegria</td>\n",
              "    </tr>\n",
              "  </tbody>\n",
              "</table>\n",
              "</div>\n",
              "      <button class=\"colab-df-convert\" onclick=\"convertToInteractive('df-5db62357-9afc-4714-93ee-5af1768828aa')\"\n",
              "              title=\"Convert this dataframe to an interactive table.\"\n",
              "              style=\"display:none;\">\n",
              "        \n",
              "  <svg xmlns=\"http://www.w3.org/2000/svg\" height=\"24px\"viewBox=\"0 0 24 24\"\n",
              "       width=\"24px\">\n",
              "    <path d=\"M0 0h24v24H0V0z\" fill=\"none\"/>\n",
              "    <path d=\"M18.56 5.44l.94 2.06.94-2.06 2.06-.94-2.06-.94-.94-2.06-.94 2.06-2.06.94zm-11 1L8.5 8.5l.94-2.06 2.06-.94-2.06-.94L8.5 2.5l-.94 2.06-2.06.94zm10 10l.94 2.06.94-2.06 2.06-.94-2.06-.94-.94-2.06-.94 2.06-2.06.94z\"/><path d=\"M17.41 7.96l-1.37-1.37c-.4-.4-.92-.59-1.43-.59-.52 0-1.04.2-1.43.59L10.3 9.45l-7.72 7.72c-.78.78-.78 2.05 0 2.83L4 21.41c.39.39.9.59 1.41.59.51 0 1.02-.2 1.41-.59l7.78-7.78 2.81-2.81c.8-.78.8-2.07 0-2.86zM5.41 20L4 18.59l7.72-7.72 1.47 1.35L5.41 20z\"/>\n",
              "  </svg>\n",
              "      </button>\n",
              "      \n",
              "  <style>\n",
              "    .colab-df-container {\n",
              "      display:flex;\n",
              "      flex-wrap:wrap;\n",
              "      gap: 12px;\n",
              "    }\n",
              "\n",
              "    .colab-df-convert {\n",
              "      background-color: #E8F0FE;\n",
              "      border: none;\n",
              "      border-radius: 50%;\n",
              "      cursor: pointer;\n",
              "      display: none;\n",
              "      fill: #1967D2;\n",
              "      height: 32px;\n",
              "      padding: 0 0 0 0;\n",
              "      width: 32px;\n",
              "    }\n",
              "\n",
              "    .colab-df-convert:hover {\n",
              "      background-color: #E2EBFA;\n",
              "      box-shadow: 0px 1px 2px rgba(60, 64, 67, 0.3), 0px 1px 3px 1px rgba(60, 64, 67, 0.15);\n",
              "      fill: #174EA6;\n",
              "    }\n",
              "\n",
              "    [theme=dark] .colab-df-convert {\n",
              "      background-color: #3B4455;\n",
              "      fill: #D2E3FC;\n",
              "    }\n",
              "\n",
              "    [theme=dark] .colab-df-convert:hover {\n",
              "      background-color: #434B5C;\n",
              "      box-shadow: 0px 1px 3px 1px rgba(0, 0, 0, 0.15);\n",
              "      filter: drop-shadow(0px 1px 2px rgba(0, 0, 0, 0.3));\n",
              "      fill: #FFFFFF;\n",
              "    }\n",
              "  </style>\n",
              "\n",
              "      <script>\n",
              "        const buttonEl =\n",
              "          document.querySelector('#df-5db62357-9afc-4714-93ee-5af1768828aa button.colab-df-convert');\n",
              "        buttonEl.style.display =\n",
              "          google.colab.kernel.accessAllowed ? 'block' : 'none';\n",
              "\n",
              "        async function convertToInteractive(key) {\n",
              "          const element = document.querySelector('#df-5db62357-9afc-4714-93ee-5af1768828aa');\n",
              "          const dataTable =\n",
              "            await google.colab.kernel.invokeFunction('convertToInteractive',\n",
              "                                                     [key], {});\n",
              "          if (!dataTable) return;\n",
              "\n",
              "          const docLinkHtml = 'Like what you see? Visit the ' +\n",
              "            '<a target=\"_blank\" href=https://colab.research.google.com/notebooks/data_table.ipynb>data table notebook</a>'\n",
              "            + ' to learn more about interactive tables.';\n",
              "          element.innerHTML = '';\n",
              "          dataTable['output_type'] = 'display_data';\n",
              "          await google.colab.output.renderOutput(dataTable, element);\n",
              "          const docLink = document.createElement('div');\n",
              "          docLink.innerHTML = docLinkHtml;\n",
              "          element.appendChild(docLink);\n",
              "        }\n",
              "      </script>\n",
              "    </div>\n",
              "  </div>\n",
              "  "
            ]
          },
          "metadata": {},
          "execution_count": 36
        }
      ]
    },
    {
      "cell_type": "code",
      "source": [
        "dados_final = []\n",
        "for texto, emocao in zip(dados['texto'], dados['emocao']):\n",
        "    # print(texto, emocao)\n",
        "    if emocao == 'alegria':\n",
        "        dic = ({'ALEGRIA': True, 'MEDO': False})\n",
        "    elif emocao == 'medo':\n",
        "        dic = ({'ALEGRIA': False, 'MEDO': True})\n",
        "\n",
        "    dados_final.append([texto, dic.copy()])"
      ],
      "metadata": {
        "id": "1b64iORYEP3v"
      },
      "execution_count": 37,
      "outputs": []
    },
    {
      "cell_type": "code",
      "source": [
        "len(dados_final)"
      ],
      "metadata": {
        "colab": {
          "base_uri": "https://localhost:8080/"
        },
        "id": "t6ur4fdpETR-",
        "outputId": "89aff67b-1ac1-49a6-b070-e59e3dcaaf16"
      },
      "execution_count": 38,
      "outputs": [
        {
          "output_type": "execute_result",
          "data": {
            "text/plain": [
              "196"
            ]
          },
          "metadata": {},
          "execution_count": 38
        }
      ]
    },
    {
      "cell_type": "code",
      "source": [
        "dados_final"
      ],
      "metadata": {
        "colab": {
          "base_uri": "https://localhost:8080/"
        },
        "id": "fTszUyRIEVK6",
        "outputId": "b1af5ffe-0695-4299-aec4-7beb3d065696"
      },
      "execution_count": 39,
      "outputs": [
        {
          "output_type": "execute_result",
          "data": {
            "text/plain": [
              "[['trabalho agradável', {'ALEGRIA': True, 'MEDO': False}],\n",
              " ['gosto ficar aconchego', {'ALEGRIA': True, 'MEDO': False}],\n",
              " ['fiz a adesão a o curso hoje', {'ALEGRIA': True, 'MEDO': False}],\n",
              " ['admirada', {'ALEGRIA': True, 'MEDO': False}],\n",
              " ['adoro', {'ALEGRIA': True, 'MEDO': False}],\n",
              " ['adoro cabelo macio', {'ALEGRIA': True, 'MEDO': False}],\n",
              " ['adoro a cor olhos', {'ALEGRIA': True, 'MEDO': False}],\n",
              " ['somo amáveis o outro', {'ALEGRIA': True, 'MEDO': False}],\n",
              " ['sinto afeição', {'ALEGRIA': True, 'MEDO': False}],\n",
              " ['agradar filhos', {'ALEGRIA': True, 'MEDO': False}],\n",
              " ['sinto completamente amado', {'ALEGRIA': True, 'MEDO': False}],\n",
              " ['amo', {'ALEGRIA': True, 'MEDO': False}],\n",
              " ['alívio', {'ALEGRIA': True, 'MEDO': False}],\n",
              " ['a dor amenizando finalmente', {'ALEGRIA': True, 'MEDO': False}],\n",
              " ['acho apaixonei', {'ALEGRIA': True, 'MEDO': False}],\n",
              " ['amar maravilhoso', {'ALEGRIA': True, 'MEDO': False}],\n",
              " ['sentindo animada', {'ALEGRIA': True, 'MEDO': False}],\n",
              " ['sinto hoje', {'ALEGRIA': True, 'MEDO': False}],\n",
              " ['o luar belo', {'ALEGRIA': True, 'MEDO': False}],\n",
              " ['o dia bonito', {'ALEGRIA': True, 'MEDO': False}],\n",
              " ['afortunado', {'ALEGRIA': True, 'MEDO': False}],\n",
              " ['maravilhas mundo', {'ALEGRIA': True, 'MEDO': False}],\n",
              " ['recebi carinho hoje colegas', {'ALEGRIA': True, 'MEDO': False}],\n",
              " ['sentindo reconfortada hoje', {'ALEGRIA': True, 'MEDO': False}],\n",
              " ['amigos', {'ALEGRIA': True, 'MEDO': False}],\n",
              " ['contente o resultado testes', {'ALEGRIA': True, 'MEDO': False}],\n",
              " ['pintura brilhante', {'ALEGRIA': True, 'MEDO': False}],\n",
              " ['água abundância', {'ALEGRIA': True, 'MEDO': False}],\n",
              " ['roupa delicada', {'ALEGRIA': True, 'MEDO': False}],\n",
              " ['comediante', {'ALEGRIA': True, 'MEDO': False}],\n",
              " ['bondade a vir', {'ALEGRIA': True, 'MEDO': False}],\n",
              " ['o amor lindo', {'ALEGRIA': True, 'MEDO': False}],\n",
              " ['amizade durar', {'ALEGRIA': True, 'MEDO': False}],\n",
              " ['eufórica a notícia', {'ALEGRIA': True, 'MEDO': False}],\n",
              " ['realmente fiel a mim', {'ALEGRIA': True, 'MEDO': False}],\n",
              " ['vou festa comemorar aniversário', {'ALEGRIA': True, 'MEDO': False}],\n",
              " ['graças a deus enxerguei o certo', {'ALEGRIA': True, 'MEDO': False}],\n",
              " ['a melhor escolhas', {'ALEGRIA': True, 'MEDO': False}],\n",
              " ['o incrível bela', {'ALEGRIA': True, 'MEDO': False}],\n",
              " ['engraçado explicar', {'ALEGRIA': True, 'MEDO': False}],\n",
              " ['emocionante n', {'ALEGRIA': True, 'MEDO': False}],\n",
              " ['cativada olhar', {'ALEGRIA': True, 'MEDO': False}],\n",
              " ['loucamente apaixonada', {'ALEGRIA': True, 'MEDO': False}],\n",
              " ['dúvidas', {'ALEGRIA': True, 'MEDO': False}],\n",
              " ['rodeada abraço', {'ALEGRIA': True, 'MEDO': False}],\n",
              " ['vejo estrelas', {'ALEGRIA': True, 'MEDO': False}],\n",
              " ['sinto o sol', {'ALEGRIA': True, 'MEDO': False}],\n",
              " ['sorrindo orelha a orelha', {'ALEGRIA': True, 'MEDO': False}],\n",
              " ['vale a pena', {'ALEGRIA': True, 'MEDO': False}],\n",
              " ['finalmente colocou amor', {'ALEGRIA': True, 'MEDO': False}],\n",
              " ['dançamos noite adentro', {'ALEGRIA': True, 'MEDO': False}],\n",
              " ['amor brilhante', {'ALEGRIA': True, 'MEDO': False}],\n",
              " ['toquei corações durante o', {'ALEGRIA': True, 'MEDO': False}],\n",
              " ['serei amiga e companheira', {'ALEGRIA': True, 'MEDO': False}],\n",
              " ['traz volta a vida', {'ALEGRIA': True, 'MEDO': False}],\n",
              " ['e sonho doce', {'ALEGRIA': True, 'MEDO': False}],\n",
              " ['adoro doce frutas', {'ALEGRIA': True, 'MEDO': False}],\n",
              " ['suco favorito', {'ALEGRIA': True, 'MEDO': False}],\n",
              " ['agradecida ajuda', {'ALEGRIA': True, 'MEDO': False}],\n",
              " ['enorme prazer equipe', {'ALEGRIA': True, 'MEDO': False}],\n",
              " ['trabalhar equipe o melhor', {'ALEGRIA': True, 'MEDO': False}],\n",
              " ['sinto flutuando ar', {'ALEGRIA': True, 'MEDO': False}],\n",
              " ['a brisa agradável hoje', {'ALEGRIA': True, 'MEDO': False}],\n",
              " ['ótimo e compatível', {'ALEGRIA': True, 'MEDO': False}],\n",
              " ['compatíveis o outro', {'ALEGRIA': True, 'MEDO': False}],\n",
              " ['o órgão compatível o paciente', {'ALEGRIA': True, 'MEDO': False}],\n",
              " ['contente aceita faculdade', {'ALEGRIA': True, 'MEDO': False}],\n",
              " ['aprovada exame', {'ALEGRIA': True, 'MEDO': False}],\n",
              " ['beneficiada empresa', {'ALEGRIA': True, 'MEDO': False}],\n",
              " ['cativante', {'ALEGRIA': True, 'MEDO': False}],\n",
              " ['contente o', {'ALEGRIA': True, 'MEDO': False}],\n",
              " ['e confortável', {'ALEGRIA': True, 'MEDO': False}],\n",
              " ['e quente n frio', {'ALEGRIA': True, 'MEDO': False}],\n",
              " ['elogio e', {'ALEGRIA': True, 'MEDO': False}],\n",
              " ['vou chamar comemorar', {'ALEGRIA': True, 'MEDO': False}],\n",
              " ['desejável a presença apresentação', {'ALEGRIA': True, 'MEDO': False}],\n",
              " ['grata a', {'ALEGRIA': True, 'MEDO': False}],\n",
              " ['dedico n', {'ALEGRIA': True, 'MEDO': False}],\n",
              " ['completamente apaixonada', {'ALEGRIA': True, 'MEDO': False}],\n",
              " ['vamos agitar noite', {'ALEGRIA': True, 'MEDO': False}],\n",
              " ['significa mim', {'ALEGRIA': True, 'MEDO': False}],\n",
              " ['vamos agir preconceitos e julgamentos', {'ALEGRIA': True, 'MEDO': False}],\n",
              " ['finalmente completei a coleção maravilhoso',\n",
              "  {'ALEGRIA': True, 'MEDO': False}],\n",
              " ['rainha', {'ALEGRIA': True, 'MEDO': False}],\n",
              " ['satisfatoriamente anuncio o vencedor jogos',\n",
              "  {'ALEGRIA': True, 'MEDO': False}],\n",
              " ['atrai facilmente', {'ALEGRIA': True, 'MEDO': False}],\n",
              " ['rapaz e extremamente atraente', {'ALEGRIA': True, 'MEDO': False}],\n",
              " ['sinto-me viva', {'ALEGRIA': True, 'MEDO': False}],\n",
              " ['sinto-me paz', {'ALEGRIA': True, 'MEDO': False}],\n",
              " ['estamos tendo lucro', {'ALEGRIA': True, 'MEDO': False}],\n",
              " ['ordem', {'ALEGRIA': True, 'MEDO': False}],\n",
              " ['podemos arrumar emprego juntos', {'ALEGRIA': True, 'MEDO': False}],\n",
              " ['a arrumação terminada alívio', {'ALEGRIA': True, 'MEDO': False}],\n",
              " ['o câncer benigno', {'ALEGRIA': True, 'MEDO': False}],\n",
              " ['o amor abundante', {'ALEGRIA': True, 'MEDO': False}],\n",
              " ['vamos caridosos natal', {'ALEGRIA': True, 'MEDO': False}],\n",
              " ['charme atrair a', {'ALEGRIA': True, 'MEDO': False}],\n",
              " ['charmoso querido', {'ALEGRIA': True, 'MEDO': False}],\n",
              " ['querida amigos', {'ALEGRIA': True, 'MEDO': False}],\n",
              " ['seja cuidadoso sentimentos', {'ALEGRIA': True, 'MEDO': False}],\n",
              " ['comovido tamanha caridade', {'ALEGRIA': True, 'MEDO': False}],\n",
              " ['chá quente e reconfortante', {'ALEGRIA': True, 'MEDO': False}],\n",
              " ['alegria', {'ALEGRIA': True, 'MEDO': False}],\n",
              " ['vamos aplaudir o vencedor', {'ALEGRIA': True, 'MEDO': False}],\n",
              " ['palmas a aniversariante', {'ALEGRIA': True, 'MEDO': False}],\n",
              " ['desejo a', {'ALEGRIA': True, 'MEDO': False}],\n",
              " ['hora apreciar vinho', {'ALEGRIA': True, 'MEDO': False}],\n",
              " ['aprecio presença escola', {'ALEGRIA': True, 'MEDO': False}],\n",
              " ['anseio próximos trabalhos', {'ALEGRIA': True, 'MEDO': False}],\n",
              " ['maravilhoso jogo amistoso', {'ALEGRIA': True, 'MEDO': False}],\n",
              " ['e ótimo menimos tenham apaziguado', {'ALEGRIA': True, 'MEDO': False}],\n",
              " ['concretizei finalmente sonho', {'ALEGRIA': True, 'MEDO': False}],\n",
              " ['imploro matem', {'ALEGRIA': False, 'MEDO': True}],\n",
              " ['perigoso', {'ALEGRIA': False, 'MEDO': True}],\n",
              " ['seguro', {'ALEGRIA': False, 'MEDO': True}],\n",
              " ['correr pra pegarem', {'ALEGRIA': False, 'MEDO': True}],\n",
              " ['socorro queria roubar doces', {'ALEGRIA': False, 'MEDO': True}],\n",
              " ['cara perseguindo', {'ALEGRIA': False, 'MEDO': True}],\n",
              " ['entro perigoso', {'ALEGRIA': False, 'MEDO': True}],\n",
              " ['continua assustador', {'ALEGRIA': False, 'MEDO': True}],\n",
              " ['selva animais perigosos', {'ALEGRIA': False, 'MEDO': True}],\n",
              " ['avancem cautela', {'ALEGRIA': False, 'MEDO': True}],\n",
              " ['silencioso cuidado', {'ALEGRIA': False, 'MEDO': True}],\n",
              " ['deixe-me viver', {'ALEGRIA': False, 'MEDO': True}],\n",
              " ['vou ficar mesada tirar nota baixa', {'ALEGRIA': False, 'MEDO': True}],\n",
              " ['olhos vigiando', {'ALEGRIA': False, 'MEDO': True}],\n",
              " ['temo a sentença juiz possa negativa', {'ALEGRIA': False, 'MEDO': True}],\n",
              " ['missão arriscada', {'ALEGRIA': False, 'MEDO': True}],\n",
              " ['salvem-se puder', {'ALEGRIA': False, 'MEDO': True}],\n",
              " ['plano descoberto', {'ALEGRIA': False, 'MEDO': True}],\n",
              " ['culpa juro', {'ALEGRIA': False, 'MEDO': True}],\n",
              " ['tomar cuidado o lobisomem', {'ALEGRIA': False, 'MEDO': True}],\n",
              " ['achar descobrir a verdade', {'ALEGRIA': False, 'MEDO': True}],\n",
              " ['deus desapareceu', {'ALEGRIA': False, 'MEDO': True}],\n",
              " ['tomara vejam d', {'ALEGRIA': False, 'MEDO': True}],\n",
              " ['mantenha segredo descobrirem estaremos ferrados',\n",
              "  {'ALEGRIA': False, 'MEDO': True}],\n",
              " ['soltem inocente', {'ALEGRIA': False, 'MEDO': True}],\n",
              " ['ouvindo passos mim', {'ALEGRIA': False, 'MEDO': True}],\n",
              " ['vou pedir socorro', {'ALEGRIA': False, 'MEDO': True}],\n",
              " ['cuidado curvas estrada', {'ALEGRIA': False, 'MEDO': True}],\n",
              " ['perigoso', {'ALEGRIA': False, 'MEDO': True}],\n",
              " ['tremendo medo', {'ALEGRIA': False, 'MEDO': True}],\n",
              " ['socorro vou cair', {'ALEGRIA': False, 'MEDO': True}],\n",
              " ['vou a floresta negra perigoso', {'ALEGRIA': False, 'MEDO': True}],\n",
              " ['ouço passos direção', {'ALEGRIA': False, 'MEDO': True}],\n",
              " ['acho arriscado', {'ALEGRIA': False, 'MEDO': True}],\n",
              " ['vamos voltar perigoso', {'ALEGRIA': False, 'MEDO': True}],\n",
              " ['fuja acabaremos mortos', {'ALEGRIA': False, 'MEDO': True}],\n",
              " ['receio livrar d situação', {'ALEGRIA': False, 'MEDO': True}],\n",
              " ['socorro armado', {'ALEGRIA': False, 'MEDO': True}],\n",
              " ['ei cuidado bater poste', {'ALEGRIA': False, 'MEDO': True}],\n",
              " ['socorro estamos afundando', {'ALEGRIA': False, 'MEDO': True}],\n",
              " ['e sério cuidado arma', {'ALEGRIA': False, 'MEDO': True}],\n",
              " ['tubarões atacando', {'ALEGRIA': False, 'MEDO': True}],\n",
              " ['sinto arrepios fico sozinho escuro', {'ALEGRIA': False, 'MEDO': True}],\n",
              " ['calma o dinheiro', {'ALEGRIA': False, 'MEDO': True}],\n",
              " ['acho sendo enganado', {'ALEGRIA': False, 'MEDO': True}],\n",
              " ['ligeiro fugir depressa', {'ALEGRIA': False, 'MEDO': True}],\n",
              " ['crocodilo selvagem', {'ALEGRIA': False, 'MEDO': True}],\n",
              " ['ficarmos quietos achar', {'ALEGRIA': False, 'MEDO': True}],\n",
              " ['fuja o tigre faminto', {'ALEGRIA': False, 'MEDO': True}],\n",
              " ['saída preciso milagre', {'ALEGRIA': False, 'MEDO': True}],\n",
              " ['tire mim socorro', {'ALEGRIA': False, 'MEDO': True}],\n",
              " ['nadar vou afogar', {'ALEGRIA': False, 'MEDO': True}],\n",
              " ['e seguro', {'ALEGRIA': False, 'MEDO': True}],\n",
              " ['vou apanhar pais verem boletim', {'ALEGRIA': False, 'MEDO': True}],\n",
              " ['consigo sair d', {'ALEGRIA': False, 'MEDO': True}],\n",
              " ['sair poderei assaltada', {'ALEGRIA': False, 'MEDO': True}],\n",
              " ['deixe', {'ALEGRIA': False, 'MEDO': True}],\n",
              " ['espere largar sozinho', {'ALEGRIA': False, 'MEDO': True}],\n",
              " ['temo segurança', {'ALEGRIA': False, 'MEDO': True}],\n",
              " ['entrego o dinheiro mate', {'ALEGRIA': False, 'MEDO': True}],\n",
              " ['levar o dinheiro', {'ALEGRIA': False, 'MEDO': True}],\n",
              " ['dirija rápido', {'ALEGRIA': False, 'MEDO': True}],\n",
              " ['descobriram irão prender', {'ALEGRIA': False, 'MEDO': True}],\n",
              " ['espero façam nenhum', {'ALEGRIA': False, 'MEDO': True}],\n",
              " ['vou afogar ajudem a sair água', {'ALEGRIA': False, 'MEDO': True}],\n",
              " ['estaremos a salvo', {'ALEGRIA': False, 'MEDO': True}],\n",
              " ['pensar acontecer', {'ALEGRIA': False, 'MEDO': True}],\n",
              " ['n cidade desgraça', {'ALEGRIA': False, 'MEDO': True}],\n",
              " ['alguém ligando assustado', {'ALEGRIA': False, 'MEDO': True}],\n",
              " ['remedio matem', {'ALEGRIA': False, 'MEDO': True}],\n",
              " ['confio n cautela', {'ALEGRIA': False, 'MEDO': True}],\n",
              " ['muita cautela', {'ALEGRIA': False, 'MEDO': True}],\n",
              " ['vou descoberto deus', {'ALEGRIA': False, 'MEDO': True}],\n",
              " ['receio terei', {'ALEGRIA': False, 'MEDO': True}],\n",
              " ['a noite e perigosa', {'ALEGRIA': False, 'MEDO': True}],\n",
              " ['estremecendo casa', {'ALEGRIA': False, 'MEDO': True}],\n",
              " ['olha criatura movendo monstruosamente', {'ALEGRIA': False, 'MEDO': True}],\n",
              " ['aguento suspense', {'ALEGRIA': False, 'MEDO': True}],\n",
              " ['afugente cães', {'ALEGRIA': False, 'MEDO': True}],\n",
              " ['chocado e amedrontado assassinato brutal',\n",
              "  {'ALEGRIA': False, 'MEDO': True}],\n",
              " ['preciso afugenta ímpeto medo inferno', {'ALEGRIA': False, 'MEDO': True}],\n",
              " ['políticos usam forças afugentar e amedrontar o',\n",
              "  {'ALEGRIA': False, 'MEDO': True}],\n",
              " ['o objetivo d e amedrontar', {'ALEGRIA': False, 'MEDO': True}],\n",
              " ['apavora', {'ALEGRIA': False, 'MEDO': True}]]"
            ]
          },
          "metadata": {},
          "execution_count": 39
        }
      ]
    },
    {
      "cell_type": "code",
      "source": [
        "modelo = spacy.blank('pt')\n",
        "categorias = modelo.create_pipe(\"textcat\")\n",
        "categorias.add_label('ALEGRIA')\n",
        "categorias.add_label('MEDO')\n",
        "modelo.add_pipe(categorias)\n",
        "historico = []"
      ],
      "metadata": {
        "id": "ZQobu97wEXCw"
      },
      "execution_count": 40,
      "outputs": []
    },
    {
      "cell_type": "code",
      "source": [
        "import json"
      ],
      "metadata": {
        "id": "3-wAdU6aLoKi"
      },
      "execution_count": 45,
      "outputs": []
    },
    {
      "cell_type": "code",
      "source": [
        "modelo.begin_training()\n",
        "for epoch in range(1000):\n",
        "  random.shuffle(dados_final) # misturar base de dados\n",
        "  losses = {}\n",
        "  for batch in spacy.util.minibatch(dados_final, 30):\n",
        "    textos = [modelo(texto) for texto, entities in batch]\n",
        "    annotations = [{'cats': entities} for texto, entities in batch]\n",
        "    modelo.update(textos, annotations, losses=losses)\n",
        "  if epoch % 100 == 0:\n",
        "    print(losses)\n",
        "    historico.append(losses)"
      ],
      "metadata": {
        "colab": {
          "base_uri": "https://localhost:8080/"
        },
        "id": "G0GNtEh-EfPm",
        "outputId": "0c94a3a0-1d9a-4b80-bdce-b87a956bf991"
      },
      "execution_count": 48,
      "outputs": [
        {
          "output_type": "stream",
          "name": "stdout",
          "text": [
            "{'textcat': 0.007616500603035092}\n",
            "{'textcat': 3.572075080171544e-08}\n",
            "{'textcat': 1.3468073545297443e-08}\n",
            "{'textcat': 7.084675679447372e-09}\n",
            "{'textcat': 4.439353579188676e-09}\n",
            "{'textcat': 3.0629432601347872e-09}\n",
            "{'textcat': 2.4829801548165165e-09}\n",
            "{'textcat': 2.0213238582922344e-09}\n",
            "{'textcat': 1.5742178532951456e-09}\n",
            "{'textcat': 1.389326875766983e-09}\n"
          ]
        }
      ]
    },
    {
      "cell_type": "code",
      "source": [
        "historico"
      ],
      "metadata": {
        "colab": {
          "base_uri": "https://localhost:8080/"
        },
        "id": "dgaBzYxGMWq9",
        "outputId": "faf800c4-1d18-499b-b4fd-fad53fda039a"
      },
      "execution_count": 49,
      "outputs": [
        {
          "output_type": "execute_result",
          "data": {
            "text/plain": [
              "[{'textcat': 0.007616500603035092},\n",
              " {'textcat': 3.572075080171544e-08},\n",
              " {'textcat': 1.3468073545297443e-08},\n",
              " {'textcat': 7.084675679447372e-09},\n",
              " {'textcat': 4.439353579188676e-09},\n",
              " {'textcat': 3.0629432601347872e-09},\n",
              " {'textcat': 2.4829801548165165e-09},\n",
              " {'textcat': 2.0213238582922344e-09},\n",
              " {'textcat': 1.5742178532951456e-09},\n",
              " {'textcat': 1.389326875766983e-09}]"
            ]
          },
          "metadata": {},
          "execution_count": 49
        }
      ]
    },
    {
      "cell_type": "code",
      "source": [
        "historico_losses = []\n",
        "for i in historico:\n",
        "  historico_losses.append(i.get('textcat'))"
      ],
      "metadata": {
        "id": "6M0q07ywMXs7"
      },
      "execution_count": 52,
      "outputs": []
    },
    {
      "cell_type": "code",
      "source": [
        "historico_losses = npa.array(historico_losses)"
      ],
      "metadata": {
        "id": "rUq4Dv6FMnDe"
      },
      "execution_count": 53,
      "outputs": []
    },
    {
      "cell_type": "code",
      "source": [
        "import matplotlib.pyplot as plt\n",
        "\n",
        "plt.plot(historico_losses)\n",
        "plt.title('Progressão do erro')\n",
        "plt.xlabel('Epocas')\n",
        "plt.ylabel('Erro')"
      ],
      "metadata": {
        "colab": {
          "base_uri": "https://localhost:8080/",
          "height": 313
        },
        "id": "YQWBK97XOAgu",
        "outputId": "d077e08e-0f02-450c-d214-2bf33ad8b557"
      },
      "execution_count": 54,
      "outputs": [
        {
          "output_type": "execute_result",
          "data": {
            "text/plain": [
              "Text(0, 0.5, 'Erro')"
            ]
          },
          "metadata": {},
          "execution_count": 54
        },
        {
          "output_type": "display_data",
          "data": {
            "text/plain": [
              "<Figure size 432x288 with 1 Axes>"
            ],
            "image/png": "[encoded data removed]"
          },
          "metadata": {
            "needs_background": "light"
          }
        }
      ]
    },
    {
      "cell_type": "code",
      "source": [
        "modelo.to_disk('modelo')"
      ],
      "metadata": {
        "id": "hleghq4yOZag"
      },
      "execution_count": 55,
      "outputs": []
    },
    {
      "cell_type": "markdown",
      "source": [
        "### Testes com frase"
      ],
      "metadata": {
        "id": "vhRx-sqxS95Z"
      }
    },
    {
      "cell_type": "code",
      "source": [
        "modelo_carregado = spacy.load(\"modelo\")"
      ],
      "metadata": {
        "id": "rJoUyaCTSk-D"
      },
      "execution_count": 118,
      "outputs": []
    },
    {
      "cell_type": "code",
      "source": [
        "modelo_carregado"
      ],
      "metadata": {
        "colab": {
          "base_uri": "https://localhost:8080/"
        },
        "id": "C4Ucrn-_TNB_",
        "outputId": "61381679-17b9-43b5-a05c-bcac3062c3b1"
      },
      "execution_count": 119,
      "outputs": [
        {
          "output_type": "execute_result",
          "data": {
            "text/plain": [
              "<spacy.lang.pt.Portuguese at 0x7ff9a6b35f10>"
            ]
          },
          "metadata": {},
          "execution_count": 119
        }
      ]
    },
    {
      "cell_type": "code",
      "source": [
        "texto_positivo = 'Eu amo assistir o jogo do Corinthians'"
      ],
      "metadata": {
        "id": "gBa2KdGlTUjj"
      },
      "execution_count": 120,
      "outputs": []
    },
    {
      "cell_type": "code",
      "source": [
        "texto_positivo = preprocessamento(texto_positivo)"
      ],
      "metadata": {
        "id": "PxAetRItTaVM"
      },
      "execution_count": 121,
      "outputs": []
    },
    {
      "cell_type": "code",
      "source": [
        "texto_positivo"
      ],
      "metadata": {
        "colab": {
          "base_uri": "https://localhost:8080/",
          "height": 35
        },
        "id": "3mNMjdQFTfxA",
        "outputId": "8f237ab5-9ccb-44fc-d3cb-99ce6778e2ca"
      },
      "execution_count": 122,
      "outputs": [
        {
          "output_type": "execute_result",
          "data": {
            "text/plain": [
              "'amo assistir o jogo corinthians'"
            ],
            "application/vnd.google.colaboratory.intrinsic+json": {
              "type": "string"
            }
          },
          "metadata": {},
          "execution_count": 122
        }
      ]
    },
    {
      "cell_type": "code",
      "source": [
        "previsao = modelo_carregado(texto_positivo)"
      ],
      "metadata": {
        "id": "lk6qkZ6SThFU"
      },
      "execution_count": 123,
      "outputs": []
    },
    {
      "cell_type": "code",
      "source": [
        "previsao"
      ],
      "metadata": {
        "colab": {
          "base_uri": "https://localhost:8080/"
        },
        "id": "6tYhUZIgTov4",
        "outputId": "26396ae3-d034-4380-9c89-69ac5f16ddfb"
      },
      "execution_count": 124,
      "outputs": [
        {
          "output_type": "execute_result",
          "data": {
            "text/plain": [
              "amo assistir o jogo corinthians"
            ]
          },
          "metadata": {},
          "execution_count": 124
        }
      ]
    },
    {
      "cell_type": "code",
      "source": [
        "previsao.cats"
      ],
      "metadata": {
        "colab": {
          "base_uri": "https://localhost:8080/"
        },
        "id": "gLQzQtdzTpiS",
        "outputId": "45a56d06-b2e7-43fb-cb26-08c8184849ff"
      },
      "execution_count": 125,
      "outputs": [
        {
          "output_type": "execute_result",
          "data": {
            "text/plain": [
              "{'ALEGRIA': 0.9999284744262695, 'MEDO': 0.0008605840266682208}"
            ]
          },
          "metadata": {},
          "execution_count": 125
        }
      ]
    },
    {
      "cell_type": "code",
      "source": [
        "texto_negativo = 'Odiei o árbitro do jogo'"
      ],
      "metadata": {
        "id": "Q3C53I4jTsLX"
      },
      "execution_count": 126,
      "outputs": []
    },
    {
      "cell_type": "code",
      "source": [
        "texto_negativo = preprocessamento(texto_negativo)"
      ],
      "metadata": {
        "id": "MufxiZJOT2Rj"
      },
      "execution_count": 127,
      "outputs": []
    },
    {
      "cell_type": "code",
      "source": [
        "texto_negativo"
      ],
      "metadata": {
        "colab": {
          "base_uri": "https://localhost:8080/",
          "height": 35
        },
        "id": "sC6vQ4AdUAku",
        "outputId": "008f5729-ef7d-4406-e13a-d09efd313a1d"
      },
      "execution_count": 128,
      "outputs": [
        {
          "output_type": "execute_result",
          "data": {
            "text/plain": [
              "'odiei o árbitro jogo'"
            ],
            "application/vnd.google.colaboratory.intrinsic+json": {
              "type": "string"
            }
          },
          "metadata": {},
          "execution_count": 128
        }
      ]
    },
    {
      "cell_type": "code",
      "source": [
        "previsao = modelo_carregado(texto_negativo)"
      ],
      "metadata": {
        "id": "-WwaCPQcUBjK"
      },
      "execution_count": 129,
      "outputs": []
    },
    {
      "cell_type": "code",
      "source": [
        "previsao.cats"
      ],
      "metadata": {
        "colab": {
          "base_uri": "https://localhost:8080/"
        },
        "id": "yPcm-OHGUHa7",
        "outputId": "ba3ba46e-2d88-46ec-8c58-002c9ea639f6"
      },
      "execution_count": 130,
      "outputs": [
        {
          "output_type": "execute_result",
          "data": {
            "text/plain": [
              "{'ALEGRIA': 0.9888155460357666, 'MEDO': 0.05549954995512962}"
            ]
          },
          "metadata": {},
          "execution_count": 130
        }
      ]
    },
    {
      "cell_type": "markdown",
      "source": [
        "## Avaliação base de treinamento"
      ],
      "metadata": {
        "id": "gjC8OHDXUgTE"
      }
    },
    {
      "cell_type": "code",
      "source": [
        "previsoes = []\n",
        "for texto in dados['texto']:\n",
        "  # print(texto)\n",
        "  previsao = modelo_carregado(texto)\n",
        "  previsoes.append(previsao.cats)"
      ],
      "metadata": {
        "id": "VkU9bgXjUitP"
      },
      "execution_count": 131,
      "outputs": []
    },
    {
      "cell_type": "code",
      "source": [
        "previsoes"
      ],
      "metadata": {
        "colab": {
          "base_uri": "https://localhost:8080/"
        },
        "id": "seHcV2kEUsNz",
        "outputId": "d2097a63-e6f9-4809-b591-91064c9aaa53"
      },
      "execution_count": 132,
      "outputs": [
        {
          "output_type": "execute_result",
          "data": {
            "text/plain": [
              "[{'ALEGRIA': 0.9999545812606812, 'MEDO': 0.0001445020316168666},\n",
              " {'ALEGRIA': 0.9999545812606812, 'MEDO': 0.0004734348913189024},\n",
              " {'ALEGRIA': 0.9999414682388306, 'MEDO': 0.0004563347902148962},\n",
              " {'ALEGRIA': 0.9999545812606812, 'MEDO': 4.539786823443137e-05},\n",
              " {'ALEGRIA': 0.9999545812606812, 'MEDO': 4.539786823443137e-05},\n",
              " {'ALEGRIA': 0.9999545812606812, 'MEDO': 0.00014927497250027955},\n",
              " {'ALEGRIA': 0.9999545812606812, 'MEDO': 9.790744661586359e-05},\n",
              " {'ALEGRIA': 0.9998177886009216, 'MEDO': 0.00024130500969476998},\n",
              " {'ALEGRIA': 0.9999545812606812, 'MEDO': 0.00024259753990918398},\n",
              " {'ALEGRIA': 0.9999545812606812, 'MEDO': 0.00027308514108881354},\n",
              " {'ALEGRIA': 0.9999545812606812, 'MEDO': 0.00010218695388175547},\n",
              " {'ALEGRIA': 0.9999477863311768, 'MEDO': 0.00017224493785761297},\n",
              " {'ALEGRIA': 0.9999545812606812, 'MEDO': 4.539786823443137e-05},\n",
              " {'ALEGRIA': 0.9999545812606812, 'MEDO': 5.781053550890647e-05},\n",
              " {'ALEGRIA': 0.9999545812606812, 'MEDO': 0.0003319786046631634},\n",
              " {'ALEGRIA': 0.9999545812606812, 'MEDO': 0.00016099742788355798},\n",
              " {'ALEGRIA': 0.9999545812606812, 'MEDO': 0.00021962290338706225},\n",
              " {'ALEGRIA': 0.9998601675033569, 'MEDO': 0.0005144743481650949},\n",
              " {'ALEGRIA': 0.9999545812606812, 'MEDO': 0.000240600886172615},\n",
              " {'ALEGRIA': 0.9999545812606812, 'MEDO': 4.835338768316433e-05},\n",
              " {'ALEGRIA': 0.9999545812606812, 'MEDO': 5.978441549814306e-05},\n",
              " {'ALEGRIA': 0.9999368190765381, 'MEDO': 0.0003871546941809356},\n",
              " {'ALEGRIA': 0.9999182224273682, 'MEDO': 0.0002764930250123143},\n",
              " {'ALEGRIA': 0.9999545812606812, 'MEDO': 0.00021460518473759294},\n",
              " {'ALEGRIA': 0.9999545812606812, 'MEDO': 4.539786823443137e-05},\n",
              " {'ALEGRIA': 0.9998694658279419, 'MEDO': 0.0004526270495261997},\n",
              " {'ALEGRIA': 0.9999545812606812, 'MEDO': 0.0001344209158560261},\n",
              " {'ALEGRIA': 0.999944806098938, 'MEDO': 0.0005009844317100942},\n",
              " {'ALEGRIA': 0.9996020197868347, 'MEDO': 0.00037819379940629005},\n",
              " {'ALEGRIA': 0.9999545812606812, 'MEDO': 4.539786823443137e-05},\n",
              " {'ALEGRIA': 0.9999545812606812, 'MEDO': 9.249607683159411e-05},\n",
              " {'ALEGRIA': 0.9999545812606812, 'MEDO': 6.5550600993447e-05},\n",
              " {'ALEGRIA': 0.9999545812606812, 'MEDO': 0.0002976151881739497},\n",
              " {'ALEGRIA': 0.9999545812606812, 'MEDO': 0.00027164549101144075},\n",
              " {'ALEGRIA': 0.9998748302459717, 'MEDO': 0.000494799402076751},\n",
              " {'ALEGRIA': 0.9999545812606812, 'MEDO': 0.00026430285652168095},\n",
              " {'ALEGRIA': 0.9998570680618286, 'MEDO': 0.0006850029458291829},\n",
              " {'ALEGRIA': 0.9999545812606812, 'MEDO': 0.00017321977065876126},\n",
              " {'ALEGRIA': 0.9999545812606812, 'MEDO': 0.00014934201317373663},\n",
              " {'ALEGRIA': 0.9999545812606812, 'MEDO': 0.0003570860135369003},\n",
              " {'ALEGRIA': 0.9999545812606812, 'MEDO': 0.0004543264803942293},\n",
              " {'ALEGRIA': 0.9999545812606812, 'MEDO': 0.000272752862656489},\n",
              " {'ALEGRIA': 0.9999545812606812, 'MEDO': 0.0003215144097339362},\n",
              " {'ALEGRIA': 0.9999545812606812, 'MEDO': 0.00023559608962386847},\n",
              " {'ALEGRIA': 0.9999545812606812, 'MEDO': 0.0002459189563523978},\n",
              " {'ALEGRIA': 0.9999545812606812, 'MEDO': 0.0001035172535921447},\n",
              " {'ALEGRIA': 0.9999545812606812, 'MEDO': 7.955935870995745e-05},\n",
              " {'ALEGRIA': 0.9998869895935059, 'MEDO': 0.000507896940689534},\n",
              " {'ALEGRIA': 0.9999140501022339, 'MEDO': 0.0004073134914506227},\n",
              " {'ALEGRIA': 0.9999545812606812, 'MEDO': 0.0001437970349797979},\n",
              " {'ALEGRIA': 0.9999545812606812, 'MEDO': 0.0003604617959354073},\n",
              " {'ALEGRIA': 0.9999545812606812, 'MEDO': 4.539786823443137e-05},\n",
              " {'ALEGRIA': 0.9999459981918335, 'MEDO': 0.00027508262428455055},\n",
              " {'ALEGRIA': 0.9999545812606812, 'MEDO': 0.0004772036336362362},\n",
              " {'ALEGRIA': 0.99994957447052, 'MEDO': 0.0003500198945403099},\n",
              " {'ALEGRIA': 0.9999545812606812, 'MEDO': 0.00030873605282977223},\n",
              " {'ALEGRIA': 0.9999545812606812, 'MEDO': 0.000260781729593873},\n",
              " {'ALEGRIA': 0.9999545812606812, 'MEDO': 0.000399955315515399},\n",
              " {'ALEGRIA': 0.9999545812606812, 'MEDO': 0.00012084768968634307},\n",
              " {'ALEGRIA': 0.9999545812606812, 'MEDO': 0.00028476002626121044},\n",
              " {'ALEGRIA': 0.9999395608901978, 'MEDO': 0.0004757651186082512},\n",
              " {'ALEGRIA': 0.9999545812606812, 'MEDO': 0.00032551586627960205},\n",
              " {'ALEGRIA': 0.9999545812606812, 'MEDO': 0.00020161012071184814},\n",
              " {'ALEGRIA': 0.9999545812606812, 'MEDO': 0.0005628313519991934},\n",
              " {'ALEGRIA': 0.9999545812606812, 'MEDO': 4.6213161112973467e-05},\n",
              " {'ALEGRIA': 0.9999545812606812, 'MEDO': 5.5169024562928826e-05},\n",
              " {'ALEGRIA': 0.9999545812606812, 'MEDO': 0.00015469979553017765},\n",
              " {'ALEGRIA': 0.9999545812606812, 'MEDO': 4.539786823443137e-05},\n",
              " {'ALEGRIA': 0.9999545812606812, 'MEDO': 0.00023469592269975692},\n",
              " {'ALEGRIA': 0.9999545812606812, 'MEDO': 0.0002838928485289216},\n",
              " {'ALEGRIA': 0.9999545812606812, 'MEDO': 9.347667219117284e-05},\n",
              " {'ALEGRIA': 0.9999545812606812, 'MEDO': 0.0003220632497686893},\n",
              " {'ALEGRIA': 0.9999545812606812, 'MEDO': 0.0004045439709443599},\n",
              " {'ALEGRIA': 0.9999545812606812, 'MEDO': 0.0002677484299056232},\n",
              " {'ALEGRIA': 0.9999545812606812, 'MEDO': 0.0003895786067005247},\n",
              " {'ALEGRIA': 0.9999436140060425, 'MEDO': 0.0005399819929152727},\n",
              " {'ALEGRIA': 0.9997931122779846, 'MEDO': 0.0003328643797431141},\n",
              " {'ALEGRIA': 0.9999475479125977, 'MEDO': 0.0007717564003542066},\n",
              " {'ALEGRIA': 0.9999545812606812, 'MEDO': 0.00011037210788344964},\n",
              " {'ALEGRIA': 0.9999545812606812, 'MEDO': 0.0003641079238150269},\n",
              " {'ALEGRIA': 0.9999536275863647, 'MEDO': 0.00039659999310970306},\n",
              " {'ALEGRIA': 0.9999545812606812, 'MEDO': 0.0005995213286951184},\n",
              " {'ALEGRIA': 0.9999545812606812, 'MEDO': 0.00026853507733903825},\n",
              " {'ALEGRIA': 0.9999545812606812, 'MEDO': 0.0001408531388733536},\n",
              " {'ALEGRIA': 0.9999545812606812, 'MEDO': 0.0003457782440818846},\n",
              " {'ALEGRIA': 0.9999545812606812, 'MEDO': 4.539786823443137e-05},\n",
              " {'ALEGRIA': 0.9999243021011353, 'MEDO': 0.00022556509065907449},\n",
              " {'ALEGRIA': 0.9999545812606812, 'MEDO': 0.00023032327590044588},\n",
              " {'ALEGRIA': 0.9999545812606812, 'MEDO': 0.0003062337345909327},\n",
              " {'ALEGRIA': 0.9999545812606812, 'MEDO': 0.0004590072203427553},\n",
              " {'ALEGRIA': 0.9999324083328247, 'MEDO': 0.00048115133540704846},\n",
              " {'ALEGRIA': 0.9999545812606812, 'MEDO': 0.00038866829709149897},\n",
              " {'ALEGRIA': 0.9999545812606812, 'MEDO': 0.0002870020689442754},\n",
              " {'ALEGRIA': 0.999954342842102, 'MEDO': 0.00042593065882101655},\n",
              " {'ALEGRIA': 0.9999545812606812, 'MEDO': 0.0001758198341121897},\n",
              " {'ALEGRIA': 0.9999545812606812, 'MEDO': 0.0003009685315191746},\n",
              " {'ALEGRIA': 0.9999432563781738, 'MEDO': 0.00022562083904631436},\n",
              " {'ALEGRIA': 0.9999545812606812, 'MEDO': 0.00035839545307680964},\n",
              " {'ALEGRIA': 0.9999545812606812, 'MEDO': 0.00020771389245055616},\n",
              " {'ALEGRIA': 0.9999545812606812, 'MEDO': 0.00013005774235352874},\n",
              " {'ALEGRIA': 0.9999545812606812, 'MEDO': 0.0004562676476780325},\n",
              " {'ALEGRIA': 0.9999545812606812, 'MEDO': 0.00021432482753880322},\n",
              " {'ALEGRIA': 0.9999545812606812, 'MEDO': 0.0001824147766456008},\n",
              " {'ALEGRIA': 0.9999545812606812, 'MEDO': 0.000325863336911425},\n",
              " {'ALEGRIA': 0.9999539852142334, 'MEDO': 0.00025845057098194957},\n",
              " {'ALEGRIA': 0.999821126461029, 'MEDO': 0.00043000539881177247},\n",
              " {'ALEGRIA': 0.9999545812606812, 'MEDO': 4.539786823443137e-05},\n",
              " {'ALEGRIA': 0.9999545812606812, 'MEDO': 0.00013531728473026305},\n",
              " {'ALEGRIA': 0.9999545812606812, 'MEDO': 0.0002588890492916107},\n",
              " {'ALEGRIA': 0.9999545812606812, 'MEDO': 0.00013158759975340217},\n",
              " {'ALEGRIA': 0.9999545812606812, 'MEDO': 0.0003503407060634345},\n",
              " {'ALEGRIA': 0.9999545812606812, 'MEDO': 0.00020522142585832626},\n",
              " {'ALEGRIA': 0.00010780111915664747, 'MEDO': 0.9995942711830139},\n",
              " {'ALEGRIA': 5.249885725788772e-05, 'MEDO': 0.9997062087059021},\n",
              " {'ALEGRIA': 4.539786823443137e-05, 'MEDO': 0.9999260902404785},\n",
              " {'ALEGRIA': 9.142344060819596e-05, 'MEDO': 0.9996086955070496},\n",
              " {'ALEGRIA': 4.539786823443137e-05, 'MEDO': 0.9997538924217224},\n",
              " {'ALEGRIA': 0.00011138435365865007, 'MEDO': 0.9996755123138428},\n",
              " {'ALEGRIA': 4.539786823443137e-05, 'MEDO': 0.9999352693557739},\n",
              " {'ALEGRIA': 4.910399002255872e-05, 'MEDO': 0.9998132586479187},\n",
              " {'ALEGRIA': 4.539786823443137e-05, 'MEDO': 0.9998936653137207},\n",
              " {'ALEGRIA': 5.8035075198858976e-05, 'MEDO': 0.9996433258056641},\n",
              " {'ALEGRIA': 4.539786823443137e-05, 'MEDO': 0.9996030926704407},\n",
              " {'ALEGRIA': 0.00010160356760025024, 'MEDO': 0.9997462630271912},\n",
              " {'ALEGRIA': 0.0001718400453682989, 'MEDO': 0.9995477795600891},\n",
              " {'ALEGRIA': 4.539786823443137e-05, 'MEDO': 0.999880313873291},\n",
              " {'ALEGRIA': 0.00012692886230070144, 'MEDO': 0.9997588992118835},\n",
              " {'ALEGRIA': 4.539786823443137e-05, 'MEDO': 0.9998965263366699},\n",
              " {'ALEGRIA': 4.7116951463976875e-05, 'MEDO': 0.9998132586479187},\n",
              " {'ALEGRIA': 4.539786823443137e-05, 'MEDO': 0.999819815158844},\n",
              " {'ALEGRIA': 4.539786823443137e-05, 'MEDO': 0.9999203681945801},\n",
              " {'ALEGRIA': 4.539786823443137e-05, 'MEDO': 0.9997908473014832},\n",
              " {'ALEGRIA': 0.00020503191626630723, 'MEDO': 0.9996083378791809},\n",
              " {'ALEGRIA': 4.539786823443137e-05, 'MEDO': 0.9996086955070496},\n",
              " {'ALEGRIA': 4.539786823443137e-05, 'MEDO': 0.9998683929443359},\n",
              " {'ALEGRIA': 0.00010778581054182723, 'MEDO': 0.9996092915534973},\n",
              " {'ALEGRIA': 0.00018340993847232312, 'MEDO': 0.9994447827339172},\n",
              " {'ALEGRIA': 0.00010604774433886632, 'MEDO': 0.9995300769805908},\n",
              " {'ALEGRIA': 4.539786823443137e-05, 'MEDO': 0.9999545812606812},\n",
              " {'ALEGRIA': 0.00025868156808428466, 'MEDO': 0.999566376209259},\n",
              " {'ALEGRIA': 5.249885725788772e-05, 'MEDO': 0.9997062087059021},\n",
              " {'ALEGRIA': 0.000187768237083219, 'MEDO': 0.9997496008872986},\n",
              " {'ALEGRIA': 8.443467959295958e-05, 'MEDO': 0.9997790455818176},\n",
              " {'ALEGRIA': 0.00011146915494464338, 'MEDO': 0.999631404876709},\n",
              " {'ALEGRIA': 4.539786823443137e-05, 'MEDO': 0.9999545812606812},\n",
              " {'ALEGRIA': 0.00013200950343161821, 'MEDO': 0.9994650483131409},\n",
              " {'ALEGRIA': 4.539786823443137e-05, 'MEDO': 0.9998667240142822},\n",
              " {'ALEGRIA': 0.00011392221495043486, 'MEDO': 0.9995735287666321},\n",
              " {'ALEGRIA': 4.539786823443137e-05, 'MEDO': 0.9999545812606812},\n",
              " {'ALEGRIA': 4.539786823443137e-05, 'MEDO': 0.9998267292976379},\n",
              " {'ALEGRIA': 4.539786823443137e-05, 'MEDO': 0.9999483823776245},\n",
              " {'ALEGRIA': 0.00018032727530226111, 'MEDO': 0.9994425177574158},\n",
              " {'ALEGRIA': 4.648401591111906e-05, 'MEDO': 0.9998853206634521},\n",
              " {'ALEGRIA': 0.00013797279098071158, 'MEDO': 0.9996511936187744},\n",
              " {'ALEGRIA': 0.0002459041716065258, 'MEDO': 0.9997416138648987},\n",
              " {'ALEGRIA': 0.00012414139928296208, 'MEDO': 0.9996840953826904},\n",
              " {'ALEGRIA': 0.00012883525050710887, 'MEDO': 0.999755322933197},\n",
              " {'ALEGRIA': 0.00013688707258552313, 'MEDO': 0.999698281288147},\n",
              " {'ALEGRIA': 4.539786823443137e-05, 'MEDO': 0.9998626708984375},\n",
              " {'ALEGRIA': 0.00022828673536423594, 'MEDO': 0.9995812773704529},\n",
              " {'ALEGRIA': 0.00012750567111652344, 'MEDO': 0.9995958209037781},\n",
              " {'ALEGRIA': 4.539786823443137e-05, 'MEDO': 0.9999366998672485},\n",
              " {'ALEGRIA': 4.539786823443137e-05, 'MEDO': 0.9998762607574463},\n",
              " {'ALEGRIA': 0.00031961561762727797, 'MEDO': 0.9996547698974609},\n",
              " {'ALEGRIA': 0.0001167250593425706, 'MEDO': 0.99972003698349},\n",
              " {'ALEGRIA': 9.2141650384292e-05, 'MEDO': 0.9997792840003967},\n",
              " {'ALEGRIA': 4.539786823443137e-05, 'MEDO': 0.9999545812606812},\n",
              " {'ALEGRIA': 0.00013224498252384365, 'MEDO': 0.9996548891067505},\n",
              " {'ALEGRIA': 4.539786823443137e-05, 'MEDO': 0.9996541738510132},\n",
              " {'ALEGRIA': 4.539786823443137e-05, 'MEDO': 0.9999353885650635},\n",
              " {'ALEGRIA': 4.539786823443137e-05, 'MEDO': 0.9999545812606812},\n",
              " {'ALEGRIA': 4.539786823443137e-05, 'MEDO': 0.9999117851257324},\n",
              " {'ALEGRIA': 0.00020680604211520404, 'MEDO': 0.9996141195297241},\n",
              " {'ALEGRIA': 7.745785114821047e-05, 'MEDO': 0.999461829662323},\n",
              " {'ALEGRIA': 6.229446444194764e-05, 'MEDO': 0.999771773815155},\n",
              " {'ALEGRIA': 0.00014016941713634878, 'MEDO': 0.9996590614318848},\n",
              " {'ALEGRIA': 0.00023332553973887116, 'MEDO': 0.9995335340499878},\n",
              " {'ALEGRIA': 0.00017384806415066123, 'MEDO': 0.9992128610610962},\n",
              " {'ALEGRIA': 4.539786823443137e-05, 'MEDO': 0.9999498128890991},\n",
              " {'ALEGRIA': 0.0002246077492600307, 'MEDO': 0.999510645866394},\n",
              " {'ALEGRIA': 0.00020818538905587047, 'MEDO': 0.999640703201294},\n",
              " {'ALEGRIA': 8.806863479549065e-05, 'MEDO': 0.9997462630271912},\n",
              " {'ALEGRIA': 4.539786823443137e-05, 'MEDO': 0.9997557997703552},\n",
              " {'ALEGRIA': 9.376610250910744e-05, 'MEDO': 0.9995043277740479},\n",
              " {'ALEGRIA': 5.969372432446107e-05, 'MEDO': 0.999663233757019},\n",
              " {'ALEGRIA': 4.635740697267465e-05, 'MEDO': 0.9996533393859863},\n",
              " {'ALEGRIA': 0.00042306387331336737, 'MEDO': 0.9992398023605347},\n",
              " {'ALEGRIA': 0.0001795007410692051, 'MEDO': 0.9995636343955994},\n",
              " {'ALEGRIA': 0.00019140246149618179, 'MEDO': 0.9997099041938782},\n",
              " {'ALEGRIA': 0.00013588464935310185, 'MEDO': 0.9994787573814392},\n",
              " {'ALEGRIA': 0.0001686106261331588, 'MEDO': 0.9997372031211853},\n",
              " {'ALEGRIA': 4.539786823443137e-05, 'MEDO': 0.9997977614402771},\n",
              " {'ALEGRIA': 0.00024245928216259927, 'MEDO': 0.9996746778488159},\n",
              " {'ALEGRIA': 6.389735062839463e-05, 'MEDO': 0.9997264742851257},\n",
              " {'ALEGRIA': 7.023042417131364e-05, 'MEDO': 0.99982750415802},\n",
              " {'ALEGRIA': 0.00016700623382348567, 'MEDO': 0.9996559619903564}]"
            ]
          },
          "metadata": {},
          "execution_count": 132
        }
      ]
    },
    {
      "cell_type": "code",
      "source": [
        "previsao_final = []\n",
        "for previsao in previsoes:\n",
        "  if previsao['ALEGRIA'] > previsao['MEDO']:\n",
        "    previsao_final.append('alegria')\n",
        "  else:\n",
        "     previsao_final.append('medo')"
      ],
      "metadata": {
        "id": "uDiHVuiQVpw_"
      },
      "execution_count": 133,
      "outputs": []
    },
    {
      "cell_type": "code",
      "source": [
        "previsao_final"
      ],
      "metadata": {
        "colab": {
          "base_uri": "https://localhost:8080/"
        },
        "id": "-lPDusn2WLFa",
        "outputId": "e258fe0e-f3be-4322-d7d6-8632e381eaec"
      },
      "execution_count": 134,
      "outputs": [
        {
          "output_type": "execute_result",
          "data": {
            "text/plain": [
              "['alegria',\n",
              " 'alegria',\n",
              " 'alegria',\n",
              " 'alegria',\n",
              " 'alegria',\n",
              " 'alegria',\n",
              " 'alegria',\n",
              " 'alegria',\n",
              " 'alegria',\n",
              " 'alegria',\n",
              " 'alegria',\n",
              " 'alegria',\n",
              " 'alegria',\n",
              " 'alegria',\n",
              " 'alegria',\n",
              " 'alegria',\n",
              " 'alegria',\n",
              " 'alegria',\n",
              " 'alegria',\n",
              " 'alegria',\n",
              " 'alegria',\n",
              " 'alegria',\n",
              " 'alegria',\n",
              " 'alegria',\n",
              " 'alegria',\n",
              " 'alegria',\n",
              " 'alegria',\n",
              " 'alegria',\n",
              " 'alegria',\n",
              " 'alegria',\n",
              " 'alegria',\n",
              " 'alegria',\n",
              " 'alegria',\n",
              " 'alegria',\n",
              " 'alegria',\n",
              " 'alegria',\n",
              " 'alegria',\n",
              " 'alegria',\n",
              " 'alegria',\n",
              " 'alegria',\n",
              " 'alegria',\n",
              " 'alegria',\n",
              " 'alegria',\n",
              " 'alegria',\n",
              " 'alegria',\n",
              " 'alegria',\n",
              " 'alegria',\n",
              " 'alegria',\n",
              " 'alegria',\n",
              " 'alegria',\n",
              " 'alegria',\n",
              " 'alegria',\n",
              " 'alegria',\n",
              " 'alegria',\n",
              " 'alegria',\n",
              " 'alegria',\n",
              " 'alegria',\n",
              " 'alegria',\n",
              " 'alegria',\n",
              " 'alegria',\n",
              " 'alegria',\n",
              " 'alegria',\n",
              " 'alegria',\n",
              " 'alegria',\n",
              " 'alegria',\n",
              " 'alegria',\n",
              " 'alegria',\n",
              " 'alegria',\n",
              " 'alegria',\n",
              " 'alegria',\n",
              " 'alegria',\n",
              " 'alegria',\n",
              " 'alegria',\n",
              " 'alegria',\n",
              " 'alegria',\n",
              " 'alegria',\n",
              " 'alegria',\n",
              " 'alegria',\n",
              " 'alegria',\n",
              " 'alegria',\n",
              " 'alegria',\n",
              " 'alegria',\n",
              " 'alegria',\n",
              " 'alegria',\n",
              " 'alegria',\n",
              " 'alegria',\n",
              " 'alegria',\n",
              " 'alegria',\n",
              " 'alegria',\n",
              " 'alegria',\n",
              " 'alegria',\n",
              " 'alegria',\n",
              " 'alegria',\n",
              " 'alegria',\n",
              " 'alegria',\n",
              " 'alegria',\n",
              " 'alegria',\n",
              " 'alegria',\n",
              " 'alegria',\n",
              " 'alegria',\n",
              " 'alegria',\n",
              " 'alegria',\n",
              " 'alegria',\n",
              " 'alegria',\n",
              " 'alegria',\n",
              " 'alegria',\n",
              " 'alegria',\n",
              " 'alegria',\n",
              " 'alegria',\n",
              " 'alegria',\n",
              " 'alegria',\n",
              " 'alegria',\n",
              " 'medo',\n",
              " 'medo',\n",
              " 'medo',\n",
              " 'medo',\n",
              " 'medo',\n",
              " 'medo',\n",
              " 'medo',\n",
              " 'medo',\n",
              " 'medo',\n",
              " 'medo',\n",
              " 'medo',\n",
              " 'medo',\n",
              " 'medo',\n",
              " 'medo',\n",
              " 'medo',\n",
              " 'medo',\n",
              " 'medo',\n",
              " 'medo',\n",
              " 'medo',\n",
              " 'medo',\n",
              " 'medo',\n",
              " 'medo',\n",
              " 'medo',\n",
              " 'medo',\n",
              " 'medo',\n",
              " 'medo',\n",
              " 'medo',\n",
              " 'medo',\n",
              " 'medo',\n",
              " 'medo',\n",
              " 'medo',\n",
              " 'medo',\n",
              " 'medo',\n",
              " 'medo',\n",
              " 'medo',\n",
              " 'medo',\n",
              " 'medo',\n",
              " 'medo',\n",
              " 'medo',\n",
              " 'medo',\n",
              " 'medo',\n",
              " 'medo',\n",
              " 'medo',\n",
              " 'medo',\n",
              " 'medo',\n",
              " 'medo',\n",
              " 'medo',\n",
              " 'medo',\n",
              " 'medo',\n",
              " 'medo',\n",
              " 'medo',\n",
              " 'medo',\n",
              " 'medo',\n",
              " 'medo',\n",
              " 'medo',\n",
              " 'medo',\n",
              " 'medo',\n",
              " 'medo',\n",
              " 'medo',\n",
              " 'medo',\n",
              " 'medo',\n",
              " 'medo',\n",
              " 'medo',\n",
              " 'medo',\n",
              " 'medo',\n",
              " 'medo',\n",
              " 'medo',\n",
              " 'medo',\n",
              " 'medo',\n",
              " 'medo',\n",
              " 'medo',\n",
              " 'medo',\n",
              " 'medo',\n",
              " 'medo',\n",
              " 'medo',\n",
              " 'medo',\n",
              " 'medo',\n",
              " 'medo',\n",
              " 'medo',\n",
              " 'medo',\n",
              " 'medo',\n",
              " 'medo',\n",
              " 'medo',\n",
              " 'medo']"
            ]
          },
          "metadata": {},
          "execution_count": 134
        }
      ]
    },
    {
      "cell_type": "code",
      "source": [
        "real = dados['emocao'].values"
      ],
      "metadata": {
        "id": "Ub38LR11WlW2"
      },
      "execution_count": 135,
      "outputs": []
    },
    {
      "cell_type": "code",
      "source": [
        "import sklearn \n",
        "from sklearn.metrics import confusion_matrix, accuracy_score"
      ],
      "metadata": {
        "id": "crpr3hmvWrcs"
      },
      "execution_count": 136,
      "outputs": []
    },
    {
      "cell_type": "code",
      "source": [
        "confusion_matrix(real, previsao_final)"
      ],
      "metadata": {
        "colab": {
          "base_uri": "https://localhost:8080/"
        },
        "id": "rF2081ubWx2R",
        "outputId": "6ac3e997-f293-4669-9b5f-f86fd283bab9"
      },
      "execution_count": 137,
      "outputs": [
        {
          "output_type": "execute_result",
          "data": {
            "text/plain": [
              "array([[112,   0],\n",
              "       [  0,  84]])"
            ]
          },
          "metadata": {},
          "execution_count": 137
        }
      ]
    },
    {
      "cell_type": "code",
      "source": [
        "accuracy_score(real, previsao_final)"
      ],
      "metadata": {
        "colab": {
          "base_uri": "https://localhost:8080/"
        },
        "id": "orVYxp6WW1B-",
        "outputId": "d0948553-b033-48e5-c229-1e6faa57f728"
      },
      "execution_count": 138,
      "outputs": [
        {
          "output_type": "execute_result",
          "data": {
            "text/plain": [
              "1.0"
            ]
          },
          "metadata": {},
          "execution_count": 138
        }
      ]
    },
    {
      "cell_type": "markdown",
      "source": [
        "## Avaliação da base de teste"
      ],
      "metadata": {
        "id": "M_1K6iUtXQVy"
      }
    },
    {
      "cell_type": "code",
      "source": [
        "base_teste = pd.read_csv('/content/base_teste.txt')"
      ],
      "metadata": {
        "id": "0Th7t8BMXUUj"
      },
      "execution_count": 139,
      "outputs": []
    },
    {
      "cell_type": "code",
      "source": [
        "base_teste.head()"
      ],
      "metadata": {
        "colab": {
          "base_uri": "https://localhost:8080/",
          "height": 206
        },
        "id": "c5naX3giXYRX",
        "outputId": "a70c6894-c55e-4f88-df21-34f3dc13aba5"
      },
      "execution_count": 140,
      "outputs": [
        {
          "output_type": "execute_result",
          "data": {
            "text/plain": [
              "                                    texto   emocao\n",
              "0           não precisei pagar o ingresso  alegria\n",
              "1             se eu ajeitar tudo fica bem  alegria\n",
              "2        minha fortuna ultrapassará a sua  alegria\n",
              "3                    sou muito afortunado  alegria\n",
              "4  é benéfico para todos esta nova medida  alegria"
            ],
            "text/html": [
              "\n",
              "  <div id=\"df-4ec1299e-8188-4a83-83b1-91ecf09bd08e\">\n",
              "    <div class=\"colab-df-container\">\n",
              "      <div>\n",
              "<style scoped>\n",
              "    .dataframe tbody tr th:only-of-type {\n",
              "        vertical-align: middle;\n",
              "    }\n",
              "\n",
              "    .dataframe tbody tr th {\n",
              "        vertical-align: top;\n",
              "    }\n",
              "\n",
              "    .dataframe thead th {\n",
              "        text-align: right;\n",
              "    }\n",
              "</style>\n",
              "<table border=\"1\" class=\"dataframe\">\n",
              "  <thead>\n",
              "    <tr style=\"text-align: right;\">\n",
              "      <th></th>\n",
              "      <th>texto</th>\n",
              "      <th>emocao</th>\n",
              "    </tr>\n",
              "  </thead>\n",
              "  <tbody>\n",
              "    <tr>\n",
              "      <th>0</th>\n",
              "      <td>não precisei pagar o ingresso</td>\n",
              "      <td>alegria</td>\n",
              "    </tr>\n",
              "    <tr>\n",
              "      <th>1</th>\n",
              "      <td>se eu ajeitar tudo fica bem</td>\n",
              "      <td>alegria</td>\n",
              "    </tr>\n",
              "    <tr>\n",
              "      <th>2</th>\n",
              "      <td>minha fortuna ultrapassará a sua</td>\n",
              "      <td>alegria</td>\n",
              "    </tr>\n",
              "    <tr>\n",
              "      <th>3</th>\n",
              "      <td>sou muito afortunado</td>\n",
              "      <td>alegria</td>\n",
              "    </tr>\n",
              "    <tr>\n",
              "      <th>4</th>\n",
              "      <td>é benéfico para todos esta nova medida</td>\n",
              "      <td>alegria</td>\n",
              "    </tr>\n",
              "  </tbody>\n",
              "</table>\n",
              "</div>\n",
              "      <button class=\"colab-df-convert\" onclick=\"convertToInteractive('df-4ec1299e-8188-4a83-83b1-91ecf09bd08e')\"\n",
              "              title=\"Convert this dataframe to an interactive table.\"\n",
              "              style=\"display:none;\">\n",
              "        \n",
              "  <svg xmlns=\"http://www.w3.org/2000/svg\" height=\"24px\"viewBox=\"0 0 24 24\"\n",
              "       width=\"24px\">\n",
              "    <path d=\"M0 0h24v24H0V0z\" fill=\"none\"/>\n",
              "    <path d=\"M18.56 5.44l.94 2.06.94-2.06 2.06-.94-2.06-.94-.94-2.06-.94 2.06-2.06.94zm-11 1L8.5 8.5l.94-2.06 2.06-.94-2.06-.94L8.5 2.5l-.94 2.06-2.06.94zm10 10l.94 2.06.94-2.06 2.06-.94-2.06-.94-.94-2.06-.94 2.06-2.06.94z\"/><path d=\"M17.41 7.96l-1.37-1.37c-.4-.4-.92-.59-1.43-.59-.52 0-1.04.2-1.43.59L10.3 9.45l-7.72 7.72c-.78.78-.78 2.05 0 2.83L4 21.41c.39.39.9.59 1.41.59.51 0 1.02-.2 1.41-.59l7.78-7.78 2.81-2.81c.8-.78.8-2.07 0-2.86zM5.41 20L4 18.59l7.72-7.72 1.47 1.35L5.41 20z\"/>\n",
              "  </svg>\n",
              "      </button>\n",
              "      \n",
              "  <style>\n",
              "    .colab-df-container {\n",
              "      display:flex;\n",
              "      flex-wrap:wrap;\n",
              "      gap: 12px;\n",
              "    }\n",
              "\n",
              "    .colab-df-convert {\n",
              "      background-color: #E8F0FE;\n",
              "      border: none;\n",
              "      border-radius: 50%;\n",
              "      cursor: pointer;\n",
              "      display: none;\n",
              "      fill: #1967D2;\n",
              "      height: 32px;\n",
              "      padding: 0 0 0 0;\n",
              "      width: 32px;\n",
              "    }\n",
              "\n",
              "    .colab-df-convert:hover {\n",
              "      background-color: #E2EBFA;\n",
              "      box-shadow: 0px 1px 2px rgba(60, 64, 67, 0.3), 0px 1px 3px 1px rgba(60, 64, 67, 0.15);\n",
              "      fill: #174EA6;\n",
              "    }\n",
              "\n",
              "    [theme=dark] .colab-df-convert {\n",
              "      background-color: #3B4455;\n",
              "      fill: #D2E3FC;\n",
              "    }\n",
              "\n",
              "    [theme=dark] .colab-df-convert:hover {\n",
              "      background-color: #434B5C;\n",
              "      box-shadow: 0px 1px 3px 1px rgba(0, 0, 0, 0.15);\n",
              "      filter: drop-shadow(0px 1px 2px rgba(0, 0, 0, 0.3));\n",
              "      fill: #FFFFFF;\n",
              "    }\n",
              "  </style>\n",
              "\n",
              "      <script>\n",
              "        const buttonEl =\n",
              "          document.querySelector('#df-4ec1299e-8188-4a83-83b1-91ecf09bd08e button.colab-df-convert');\n",
              "        buttonEl.style.display =\n",
              "          google.colab.kernel.accessAllowed ? 'block' : 'none';\n",
              "\n",
              "        async function convertToInteractive(key) {\n",
              "          const element = document.querySelector('#df-4ec1299e-8188-4a83-83b1-91ecf09bd08e');\n",
              "          const dataTable =\n",
              "            await google.colab.kernel.invokeFunction('convertToInteractive',\n",
              "                                                     [key], {});\n",
              "          if (!dataTable) return;\n",
              "\n",
              "          const docLinkHtml = 'Like what you see? Visit the ' +\n",
              "            '<a target=\"_blank\" href=https://colab.research.google.com/notebooks/data_table.ipynb>data table notebook</a>'\n",
              "            + ' to learn more about interactive tables.';\n",
              "          element.innerHTML = '';\n",
              "          dataTable['output_type'] = 'display_data';\n",
              "          await google.colab.output.renderOutput(dataTable, element);\n",
              "          const docLink = document.createElement('div');\n",
              "          docLink.innerHTML = docLinkHtml;\n",
              "          element.appendChild(docLink);\n",
              "        }\n",
              "      </script>\n",
              "    </div>\n",
              "  </div>\n",
              "  "
            ]
          },
          "metadata": {},
          "execution_count": 140
        }
      ]
    },
    {
      "cell_type": "code",
      "source": [
        "base_teste['texto'] = base_teste['texto'].apply(preprocessamento)"
      ],
      "metadata": {
        "id": "QhZ67D4CXa9J"
      },
      "execution_count": 141,
      "outputs": []
    },
    {
      "cell_type": "code",
      "source": [
        "base_teste.head()"
      ],
      "metadata": {
        "colab": {
          "base_uri": "https://localhost:8080/",
          "height": 206
        },
        "id": "n32vlIfjXirD",
        "outputId": "6c8ec1c1-4fa0-4a64-c331-195088b66021"
      },
      "execution_count": 142,
      "outputs": [
        {
          "output_type": "execute_result",
          "data": {
            "text/plain": [
              "                       texto   emocao\n",
              "0  precisei pagar o ingresso  alegria\n",
              "1               ajeitar fica  alegria\n",
              "2     fortuna ultrapassará a  alegria\n",
              "3                 afortunado  alegria\n",
              "4            benéfico medida  alegria"
            ],
            "text/html": [
              "\n",
              "  <div id=\"df-8bde7d6c-3561-4c5a-9978-7d39d5f11302\">\n",
              "    <div class=\"colab-df-container\">\n",
              "      <div>\n",
              "<style scoped>\n",
              "    .dataframe tbody tr th:only-of-type {\n",
              "        vertical-align: middle;\n",
              "    }\n",
              "\n",
              "    .dataframe tbody tr th {\n",
              "        vertical-align: top;\n",
              "    }\n",
              "\n",
              "    .dataframe thead th {\n",
              "        text-align: right;\n",
              "    }\n",
              "</style>\n",
              "<table border=\"1\" class=\"dataframe\">\n",
              "  <thead>\n",
              "    <tr style=\"text-align: right;\">\n",
              "      <th></th>\n",
              "      <th>texto</th>\n",
              "      <th>emocao</th>\n",
              "    </tr>\n",
              "  </thead>\n",
              "  <tbody>\n",
              "    <tr>\n",
              "      <th>0</th>\n",
              "      <td>precisei pagar o ingresso</td>\n",
              "      <td>alegria</td>\n",
              "    </tr>\n",
              "    <tr>\n",
              "      <th>1</th>\n",
              "      <td>ajeitar fica</td>\n",
              "      <td>alegria</td>\n",
              "    </tr>\n",
              "    <tr>\n",
              "      <th>2</th>\n",
              "      <td>fortuna ultrapassará a</td>\n",
              "      <td>alegria</td>\n",
              "    </tr>\n",
              "    <tr>\n",
              "      <th>3</th>\n",
              "      <td>afortunado</td>\n",
              "      <td>alegria</td>\n",
              "    </tr>\n",
              "    <tr>\n",
              "      <th>4</th>\n",
              "      <td>benéfico medida</td>\n",
              "      <td>alegria</td>\n",
              "    </tr>\n",
              "  </tbody>\n",
              "</table>\n",
              "</div>\n",
              "      <button class=\"colab-df-convert\" onclick=\"convertToInteractive('df-8bde7d6c-3561-4c5a-9978-7d39d5f11302')\"\n",
              "              title=\"Convert this dataframe to an interactive table.\"\n",
              "              style=\"display:none;\">\n",
              "        \n",
              "  <svg xmlns=\"http://www.w3.org/2000/svg\" height=\"24px\"viewBox=\"0 0 24 24\"\n",
              "       width=\"24px\">\n",
              "    <path d=\"M0 0h24v24H0V0z\" fill=\"none\"/>\n",
              "    <path d=\"M18.56 5.44l.94 2.06.94-2.06 2.06-.94-2.06-.94-.94-2.06-.94 2.06-2.06.94zm-11 1L8.5 8.5l.94-2.06 2.06-.94-2.06-.94L8.5 2.5l-.94 2.06-2.06.94zm10 10l.94 2.06.94-2.06 2.06-.94-2.06-.94-.94-2.06-.94 2.06-2.06.94z\"/><path d=\"M17.41 7.96l-1.37-1.37c-.4-.4-.92-.59-1.43-.59-.52 0-1.04.2-1.43.59L10.3 9.45l-7.72 7.72c-.78.78-.78 2.05 0 2.83L4 21.41c.39.39.9.59 1.41.59.51 0 1.02-.2 1.41-.59l7.78-7.78 2.81-2.81c.8-.78.8-2.07 0-2.86zM5.41 20L4 18.59l7.72-7.72 1.47 1.35L5.41 20z\"/>\n",
              "  </svg>\n",
              "      </button>\n",
              "      \n",
              "  <style>\n",
              "    .colab-df-container {\n",
              "      display:flex;\n",
              "      flex-wrap:wrap;\n",
              "      gap: 12px;\n",
              "    }\n",
              "\n",
              "    .colab-df-convert {\n",
              "      background-color: #E8F0FE;\n",
              "      border: none;\n",
              "      border-radius: 50%;\n",
              "      cursor: pointer;\n",
              "      display: none;\n",
              "      fill: #1967D2;\n",
              "      height: 32px;\n",
              "      padding: 0 0 0 0;\n",
              "      width: 32px;\n",
              "    }\n",
              "\n",
              "    .colab-df-convert:hover {\n",
              "      background-color: #E2EBFA;\n",
              "      box-shadow: 0px 1px 2px rgba(60, 64, 67, 0.3), 0px 1px 3px 1px rgba(60, 64, 67, 0.15);\n",
              "      fill: #174EA6;\n",
              "    }\n",
              "\n",
              "    [theme=dark] .colab-df-convert {\n",
              "      background-color: #3B4455;\n",
              "      fill: #D2E3FC;\n",
              "    }\n",
              "\n",
              "    [theme=dark] .colab-df-convert:hover {\n",
              "      background-color: #434B5C;\n",
              "      box-shadow: 0px 1px 3px 1px rgba(0, 0, 0, 0.15);\n",
              "      filter: drop-shadow(0px 1px 2px rgba(0, 0, 0, 0.3));\n",
              "      fill: #FFFFFF;\n",
              "    }\n",
              "  </style>\n",
              "\n",
              "      <script>\n",
              "        const buttonEl =\n",
              "          document.querySelector('#df-8bde7d6c-3561-4c5a-9978-7d39d5f11302 button.colab-df-convert');\n",
              "        buttonEl.style.display =\n",
              "          google.colab.kernel.accessAllowed ? 'block' : 'none';\n",
              "\n",
              "        async function convertToInteractive(key) {\n",
              "          const element = document.querySelector('#df-8bde7d6c-3561-4c5a-9978-7d39d5f11302');\n",
              "          const dataTable =\n",
              "            await google.colab.kernel.invokeFunction('convertToInteractive',\n",
              "                                                     [key], {});\n",
              "          if (!dataTable) return;\n",
              "\n",
              "          const docLinkHtml = 'Like what you see? Visit the ' +\n",
              "            '<a target=\"_blank\" href=https://colab.research.google.com/notebooks/data_table.ipynb>data table notebook</a>'\n",
              "            + ' to learn more about interactive tables.';\n",
              "          element.innerHTML = '';\n",
              "          dataTable['output_type'] = 'display_data';\n",
              "          await google.colab.output.renderOutput(dataTable, element);\n",
              "          const docLink = document.createElement('div');\n",
              "          docLink.innerHTML = docLinkHtml;\n",
              "          element.appendChild(docLink);\n",
              "        }\n",
              "      </script>\n",
              "    </div>\n",
              "  </div>\n",
              "  "
            ]
          },
          "metadata": {},
          "execution_count": 142
        }
      ]
    },
    {
      "cell_type": "code",
      "source": [
        "previsoes = []\n",
        "for texto in base_teste['texto']:\n",
        "  # print(texto)\n",
        "  previsao = modelo_carregado(texto)\n",
        "  previsoes.append(previsao.cats)"
      ],
      "metadata": {
        "id": "PDJUIxqmX4aM"
      },
      "execution_count": 143,
      "outputs": []
    },
    {
      "cell_type": "code",
      "source": [
        "previsao_final = []\n",
        "for previsao in previsoes:\n",
        "  if previsao['ALEGRIA'] > previsao['MEDO']:\n",
        "    previsao_final.append('alegria')\n",
        "  else:\n",
        "     previsao_final.append('medo')"
      ],
      "metadata": {
        "id": "gSZ1Im4RY11_"
      },
      "execution_count": 144,
      "outputs": []
    },
    {
      "cell_type": "code",
      "source": [
        "real_teste = base_teste['emocao'].values"
      ],
      "metadata": {
        "id": "UAa4biGOZAoG"
      },
      "execution_count": 145,
      "outputs": []
    },
    {
      "cell_type": "code",
      "source": [
        "from sklearn.metrics import accuracy_score, confusion_matrix"
      ],
      "metadata": {
        "id": "wI4go-JAZH-s"
      },
      "execution_count": 146,
      "outputs": []
    },
    {
      "cell_type": "code",
      "source": [
        "accuracy_score(real_teste, previsao_final)"
      ],
      "metadata": {
        "colab": {
          "base_uri": "https://localhost:8080/"
        },
        "id": "2l1FZfgUZLtu",
        "outputId": "7fc4ca96-a70f-4052-8ee9-546ce3c9a7ac"
      },
      "execution_count": 147,
      "outputs": [
        {
          "output_type": "execute_result",
          "data": {
            "text/plain": [
              "0.5119047619047619"
            ]
          },
          "metadata": {},
          "execution_count": 147
        }
      ]
    },
    {
      "cell_type": "code",
      "source": [
        "confusion_matrix(real_teste, previsao_final)"
      ],
      "metadata": {
        "colab": {
          "base_uri": "https://localhost:8080/"
        },
        "id": "c_PXo9qoZQZn",
        "outputId": "5888bddc-e5b8-4b67-858e-6870d0d0eea3"
      },
      "execution_count": 148,
      "outputs": [
        {
          "output_type": "execute_result",
          "data": {
            "text/plain": [
              "array([[32, 16],\n",
              "       [25, 11]])"
            ]
          },
          "metadata": {},
          "execution_count": 148
        }
      ]
    }
  ]
}